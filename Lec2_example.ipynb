{
  "nbformat": 4,
  "nbformat_minor": 0,
  "metadata": {
    "colab": {
      "provenance": [],
      "authorship_tag": "ABX9TyMRNCbloNk53htePQzj2ZML",
      "include_colab_link": true
    },
    "kernelspec": {
      "name": "python3",
      "display_name": "Python 3"
    },
    "language_info": {
      "name": "python"
    }
  },
  "cells": [
    {
      "cell_type": "markdown",
      "metadata": {
        "id": "view-in-github",
        "colab_type": "text"
      },
      "source": [
        "<a href=\"https://colab.research.google.com/github/jyryu3161/DrugDiscovery/blob/main/Lec2_example.ipynb\" target=\"_parent\"><img src=\"https://colab.research.google.com/assets/colab-badge.svg\" alt=\"Open In Colab\"/></a>"
      ]
    },
    {
      "cell_type": "markdown",
      "source": [
        "### Setting up Condacolab in Google Colab"
      ],
      "metadata": {
        "id": "pqLtKHNcJLhk"
      }
    },
    {
      "cell_type": "code",
      "execution_count": null,
      "metadata": {
        "id": "SRgmpQBExgDr"
      },
      "outputs": [],
      "source": [
        "!pip install -q condacolab # install the condacolab package\n",
        "import condacolab # Import and initialize condacolab\n",
        "condacolab.install()"
      ]
    },
    {
      "cell_type": "code",
      "source": [
        "import condacolab\n",
        "condacolab.check() # verification of the installation"
      ],
      "metadata": {
        "id": "mnUvdAEAJNFS"
      },
      "execution_count": null,
      "outputs": []
    },
    {
      "cell_type": "markdown",
      "source": [
        "Now you can use Conda commands directly in your notebook:"
      ],
      "metadata": {
        "id": "MZFlx4H9Jpz2"
      }
    },
    {
      "cell_type": "code",
      "source": [
        "# Create a new environment (optional)\n",
        "!conda create -n myenv python=3.9 -y\n",
        "\n",
        "# Install packages\n",
        "!conda install -c conda-forge numpy pandas matplotlib -y\n",
        "\n",
        "# List installed packages\n",
        "!conda list"
      ],
      "metadata": {
        "id": "tbU-ROHbJq_J"
      },
      "execution_count": null,
      "outputs": []
    },
    {
      "cell_type": "markdown",
      "source": [],
      "metadata": {
        "id": "rA1VZ0E1KQg7"
      }
    },
    {
      "cell_type": "code",
      "source": [],
      "metadata": {
        "id": "4a63GeN9KP9K"
      },
      "execution_count": null,
      "outputs": []
    }
  ]
}