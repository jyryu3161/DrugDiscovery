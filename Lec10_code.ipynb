{
  "cells": [
    {
      "cell_type": "markdown",
      "metadata": {
        "id": "view-in-github",
        "colab_type": "text"
      },
      "source": [
        "<a href=\"https://colab.research.google.com/github/jyryu3161/DrugDiscovery/blob/main/Lec10_code.ipynb\" target=\"_parent\"><img src=\"https://colab.research.google.com/assets/colab-badge.svg\" alt=\"Open In Colab\"/></a>"
      ]
    },
    {
      "cell_type": "markdown",
      "source": [
        "### 런타임 -> 런타임 유형 변경 -> 고용량 RAM"
      ],
      "metadata": {
        "id": "6qqBI1uR4o82"
      }
    },
    {
      "cell_type": "markdown",
      "source": [
        "# Install python packages"
      ],
      "metadata": {
        "id": "g_GQd_kSxAbu"
      }
    },
    {
      "cell_type": "code",
      "execution_count": 1,
      "metadata": {
        "id": "zGE7Zcpa4djP",
        "colab": {
          "base_uri": "https://localhost:8080/"
        },
        "outputId": "f0415111-20ec-4b37-b508-cea0877a4d83"
      },
      "outputs": [
        {
          "output_type": "stream",
          "name": "stdout",
          "text": [
            "Collecting deepchem\n",
            "  Downloading deepchem-2.8.0-py3-none-any.whl.metadata (2.0 kB)\n",
            "Collecting molvs\n",
            "  Downloading MolVS-0.1.1.tar.gz (61 kB)\n",
            "\u001b[2K     \u001b[90m━━━━━━━━━━━━━━━━━━━━━━━━━━━━━━━━━━━━━━━━\u001b[0m \u001b[32m61.9/61.9 kB\u001b[0m \u001b[31m2.1 MB/s\u001b[0m eta \u001b[36m0:00:00\u001b[0m\n",
            "\u001b[?25h  Preparing metadata (setup.py) ... \u001b[?25l\u001b[?25hdone\n",
            "Requirement already satisfied: scikit-learn in /usr/local/lib/python3.11/dist-packages (1.6.1)\n",
            "Requirement already satisfied: imbalanced-learn in /usr/local/lib/python3.11/dist-packages (0.13.0)\n",
            "Requirement already satisfied: joblib in /usr/local/lib/python3.11/dist-packages (from deepchem) (1.5.0)\n",
            "Requirement already satisfied: numpy>=1.21 in /usr/local/lib/python3.11/dist-packages (from deepchem) (2.0.2)\n",
            "Requirement already satisfied: pandas in /usr/local/lib/python3.11/dist-packages (from deepchem) (2.2.2)\n",
            "Requirement already satisfied: sympy in /usr/local/lib/python3.11/dist-packages (from deepchem) (1.13.1)\n",
            "Requirement already satisfied: scipy>=1.10.1 in /usr/local/lib/python3.11/dist-packages (from deepchem) (1.15.3)\n",
            "Collecting rdkit (from deepchem)\n",
            "  Downloading rdkit-2025.3.2-cp311-cp311-manylinux_2_28_x86_64.whl.metadata (4.0 kB)\n",
            "Requirement already satisfied: six in /usr/local/lib/python3.11/dist-packages (from molvs) (1.17.0)\n",
            "Requirement already satisfied: threadpoolctl>=3.1.0 in /usr/local/lib/python3.11/dist-packages (from scikit-learn) (3.6.0)\n",
            "Requirement already satisfied: sklearn-compat<1,>=0.1 in /usr/local/lib/python3.11/dist-packages (from imbalanced-learn) (0.1.3)\n",
            "Requirement already satisfied: python-dateutil>=2.8.2 in /usr/local/lib/python3.11/dist-packages (from pandas->deepchem) (2.9.0.post0)\n",
            "Requirement already satisfied: pytz>=2020.1 in /usr/local/lib/python3.11/dist-packages (from pandas->deepchem) (2025.2)\n",
            "Requirement already satisfied: tzdata>=2022.7 in /usr/local/lib/python3.11/dist-packages (from pandas->deepchem) (2025.2)\n",
            "Requirement already satisfied: Pillow in /usr/local/lib/python3.11/dist-packages (from rdkit->deepchem) (11.2.1)\n",
            "Requirement already satisfied: mpmath<1.4,>=1.1.0 in /usr/local/lib/python3.11/dist-packages (from sympy->deepchem) (1.3.0)\n",
            "Downloading deepchem-2.8.0-py3-none-any.whl (1.0 MB)\n",
            "\u001b[2K   \u001b[90m━━━━━━━━━━━━━━━━━━━━━━━━━━━━━━━━━━━━━━━━\u001b[0m \u001b[32m1.0/1.0 MB\u001b[0m \u001b[31m15.3 MB/s\u001b[0m eta \u001b[36m0:00:00\u001b[0m\n",
            "\u001b[?25hDownloading rdkit-2025.3.2-cp311-cp311-manylinux_2_28_x86_64.whl (35.2 MB)\n",
            "\u001b[2K   \u001b[90m━━━━━━━━━━━━━━━━━━━━━━━━━━━━━━━━━━━━━━━━\u001b[0m \u001b[32m35.2/35.2 MB\u001b[0m \u001b[31m61.9 MB/s\u001b[0m eta \u001b[36m0:00:00\u001b[0m\n",
            "\u001b[?25hBuilding wheels for collected packages: molvs\n",
            "  Building wheel for molvs (setup.py) ... \u001b[?25l\u001b[?25hdone\n",
            "  Created wheel for molvs: filename=MolVS-0.1.1-py3-none-any.whl size=32374 sha256=c32b824e71a2d8904d403c0f65e2eabc05c3a2f2daf3308db9b9c0e205f886b2\n",
            "  Stored in directory: /root/.cache/pip/wheels/26/62/a4/147e264c789d9a4e8495f2c3d60f702425761f875bcfdf44e0\n",
            "Successfully built molvs\n",
            "Installing collected packages: rdkit, molvs, deepchem\n",
            "Successfully installed deepchem-2.8.0 molvs-0.1.1 rdkit-2025.3.2\n"
          ]
        }
      ],
      "source": [
        "!pip install deepchem molvs scikit-learn imbalanced-learn"
      ]
    },
    {
      "cell_type": "markdown",
      "source": [
        "# BBBP Prediction Model"
      ],
      "metadata": {
        "id": "18326NvWxRK6"
      }
    },
    {
      "cell_type": "markdown",
      "metadata": {
        "id": "xrgCs3MCIxSy"
      },
      "source": [
        "### Download dataset"
      ]
    },
    {
      "cell_type": "code",
      "execution_count": 2,
      "metadata": {
        "colab": {
          "base_uri": "https://localhost:8080/"
        },
        "id": "PawppzejrsnG",
        "outputId": "d2efdbf8-b386-48e1-c505-60a803e343a9"
      },
      "outputs": [
        {
          "output_type": "stream",
          "name": "stdout",
          "text": [
            "--2025-05-23 01:51:33--  https://www.dropbox.com/scl/fi/6kh2l30lxqh9l5y9kg9uj/bbbp.zip?rlkey=9aksfwk9tuem1jtq4cl4f9cfw\n",
            "Resolving www.dropbox.com (www.dropbox.com)... 162.125.81.18, 2620:100:6031:18::a27d:5112\n",
            "Connecting to www.dropbox.com (www.dropbox.com)|162.125.81.18|:443... connected.\n",
            "HTTP request sent, awaiting response... 302 Found\n",
            "Location: https://uca2debfac19e4d584f837545f58.dl.dropboxusercontent.com/cd/0/inline/CqOEZWssGvuFpF7brYOCogdG8xr9ig6sjzrmA1k8qXczbht1Ix4BSGDScpmTRxfyOeD6GkfmMJqxFJ2-isc5hRxNN9XuSNDvKQJfEPeiBKzGwHtwjaCM5JorkxZy5u2whVXZLTrEghe-Oj0L9Az78-Y8/file# [following]\n",
            "--2025-05-23 01:51:34--  https://uca2debfac19e4d584f837545f58.dl.dropboxusercontent.com/cd/0/inline/CqOEZWssGvuFpF7brYOCogdG8xr9ig6sjzrmA1k8qXczbht1Ix4BSGDScpmTRxfyOeD6GkfmMJqxFJ2-isc5hRxNN9XuSNDvKQJfEPeiBKzGwHtwjaCM5JorkxZy5u2whVXZLTrEghe-Oj0L9Az78-Y8/file\n",
            "Resolving uca2debfac19e4d584f837545f58.dl.dropboxusercontent.com (uca2debfac19e4d584f837545f58.dl.dropboxusercontent.com)... 162.125.80.15, 2620:100:6035:15::a27d:550f\n",
            "Connecting to uca2debfac19e4d584f837545f58.dl.dropboxusercontent.com (uca2debfac19e4d584f837545f58.dl.dropboxusercontent.com)|162.125.80.15|:443... connected.\n",
            "HTTP request sent, awaiting response... 302 Found\n",
            "Location: /cd/0/inline2/CqPKrTt1BfIJISzsT6-PuRs0MJJlNjuWUyoQ9O6iN6J6gaSVoPbi93cjvyOJfGMLDl6fryleruMCs-ve4rGbuChx657DH1FmDSdGBitne0Yfcp7iTBtRP8Hd1H2lnExXv2ogSMwy-phKt3y5ZzZ21w8YXuiCkMMFSt_UCf1KL1bKy5_J5on_GNOb-fgPyjL0m0exYMawX2ZRJMxKw0BIEnjgvQji6IvDVMpAgLWRWtptrNMXiVblKR5AbUWlOnsPE24cmd8P0z8IxigXFxvuAyeOi-sZF5psY79uB3PVcINTmnrA3DbI9IwOe60AtR09rbkpjPtE07cM1EwfboT0RsPAQO0oPyUi5NPmsf1ZVqFFwzf6n8pPN3MSsyldCdBvMFk/file [following]\n",
            "--2025-05-23 01:51:34--  https://uca2debfac19e4d584f837545f58.dl.dropboxusercontent.com/cd/0/inline2/CqPKrTt1BfIJISzsT6-PuRs0MJJlNjuWUyoQ9O6iN6J6gaSVoPbi93cjvyOJfGMLDl6fryleruMCs-ve4rGbuChx657DH1FmDSdGBitne0Yfcp7iTBtRP8Hd1H2lnExXv2ogSMwy-phKt3y5ZzZ21w8YXuiCkMMFSt_UCf1KL1bKy5_J5on_GNOb-fgPyjL0m0exYMawX2ZRJMxKw0BIEnjgvQji6IvDVMpAgLWRWtptrNMXiVblKR5AbUWlOnsPE24cmd8P0z8IxigXFxvuAyeOi-sZF5psY79uB3PVcINTmnrA3DbI9IwOe60AtR09rbkpjPtE07cM1EwfboT0RsPAQO0oPyUi5NPmsf1ZVqFFwzf6n8pPN3MSsyldCdBvMFk/file\n",
            "Reusing existing connection to uca2debfac19e4d584f837545f58.dl.dropboxusercontent.com:443.\n",
            "HTTP request sent, awaiting response... 200 OK\n",
            "Length: 50049 (49K) [application/zip]\n",
            "Saving to: ‘bbbp.zip’\n",
            "\n",
            "bbbp.zip            100%[===================>]  48.88K  --.-KB/s    in 0.05s   \n",
            "\n",
            "2025-05-23 01:51:34 (967 KB/s) - ‘bbbp.zip’ saved [50049/50049]\n",
            "\n",
            "Archive:  bbbp.zip\n",
            "  inflating: bbbp/test.csv           \n",
            "  inflating: bbbp/train.csv          \n",
            "  inflating: bbbp/valid.csv          \n"
          ]
        }
      ],
      "source": [
        "!wget -O bbbp.zip https://www.dropbox.com/scl/fi/6kh2l30lxqh9l5y9kg9uj/bbbp.zip?rlkey=9aksfwk9tuem1jtq4cl4f9cfw&dl=0 # 데이터셋 다운로드\n",
        "!unzip bbbp.zip # 데이터셋 압축풀기"
      ]
    },
    {
      "cell_type": "markdown",
      "metadata": {
        "id": "DkECIa3jVg-R"
      },
      "source": [
        "### Preprocessing"
      ]
    },
    {
      "cell_type": "code",
      "execution_count": 3,
      "metadata": {
        "colab": {
          "base_uri": "https://localhost:8080/"
        },
        "id": "Ma0QPtSWVhC8",
        "outputId": "c7da98f2-0c1e-4855-b1bd-1bc46c281408"
      },
      "outputs": [
        {
          "output_type": "stream",
          "name": "stdout",
          "text": [
            "Processing train dataset...\n"
          ]
        },
        {
          "output_type": "stream",
          "name": "stderr",
          "text": [
            "[01:51:35] Explicit valence for atom # 1 N, 4, is greater than permitted\n",
            "[01:51:35] Explicit valence for atom # 6 N, 4, is greater than permitted\n",
            "[01:51:36] Explicit valence for atom # 6 N, 4, is greater than permitted\n",
            "[01:51:37] Explicit valence for atom # 11 N, 4, is greater than permitted\n",
            "[01:51:37] Explicit valence for atom # 5 N, 4, is greater than permitted\n",
            "[01:51:40] Can't kekulize mol.  Unkekulized atoms: 12 14\n"
          ]
        },
        {
          "output_type": "stream",
          "name": "stdout",
          "text": [
            "train dataset processing completed.\n",
            "Processing valid dataset...\n",
            "valid dataset processing completed.\n",
            "Processing test dataset...\n"
          ]
        },
        {
          "output_type": "stream",
          "name": "stderr",
          "text": [
            "[01:51:41] Explicit valence for atom # 12 N, 4, is greater than permitted\n",
            "[01:51:41] Explicit valence for atom # 5 N, 4, is greater than permitted\n"
          ]
        },
        {
          "output_type": "stream",
          "name": "stdout",
          "text": [
            "test dataset processing completed.\n",
            "All datasets have been processed.\n"
          ]
        }
      ],
      "source": [
        "import pandas as pd\n",
        "from rdkit import Chem\n",
        "from molvs import Standardizer\n",
        "from molvs.charge import Reionizer\n",
        "from molvs.tautomer import TautomerCanonicalizer\n",
        "\n",
        "from rdkit import RDLogger\n",
        "import time\n",
        "\n",
        "# RDKit의 로그 레벨을 ERROR로 설정하여 deprecation 경고 숨기기\n",
        "RDLogger.logger().setLevel(RDLogger.ERROR)\n",
        "\n",
        "def preprocess_smiles(smiles):\n",
        "    \"\"\"\n",
        "    주어진 SMILES 문자열을 전처리합니다.\n",
        "\n",
        "    :param smiles: 전처리할 SMILES 문자열\n",
        "    :return: 전처리된 SMILES 문자열, 유효하지 않은 경우 None\n",
        "    \"\"\"\n",
        "    # RDKit 분자 객체로 변환\n",
        "    mol = Chem.MolFromSmiles(smiles)\n",
        "    if mol is None:\n",
        "        return None  # 유효하지 않은 SMILES\n",
        "\n",
        "    # MolVS 표준화 적용\n",
        "    s = Standardizer()\n",
        "    mol = s.standardize(mol)\n",
        "\n",
        "    # 재이온화\n",
        "    reionizer = Reionizer()\n",
        "    mol = reionizer.reionize(mol)\n",
        "\n",
        "    # 다시 SMILES로 변환\n",
        "    return Chem.MolToSmiles(mol)\n",
        "\n",
        "def preprocess_dataset(input_file, output_file):\n",
        "    \"\"\"\n",
        "    입력 CSV 파일을 읽어 SMILES를 전처리하고 결과를 새 CSV 파일로 저장합니다.\n",
        "\n",
        "    :param input_file: 입력 CSV 파일 경로\n",
        "    :param output_file: 출력 CSV 파일 경로\n",
        "    \"\"\"\n",
        "    # CSV 파일 읽기\n",
        "    df = pd.read_csv(input_file)\n",
        "\n",
        "    # SMILES 열이 있는지 확인\n",
        "    if 'smiles' not in df.columns:\n",
        "        raise ValueError(\"CSV 파일에 'smiles' 열이 없습니다.\")\n",
        "\n",
        "    # SMILES 전처리\n",
        "    df['processed_smiles'] = df['smiles'].apply(preprocess_smiles)\n",
        "\n",
        "    # 유효하지 않은 SMILES 제거\n",
        "    df = df.dropna(subset=['processed_smiles'])\n",
        "\n",
        "    # 결과를 새 CSV 파일로 저장\n",
        "    df.to_csv(output_file, index=False)\n",
        "\n",
        "# 데이터셋 전처리 실행\n",
        "datasets = ['train', 'valid', 'test']\n",
        "\n",
        "for dataset in datasets:\n",
        "    input_file = f\"./bbbp/{dataset}.csv\"\n",
        "    output_file = f\"{dataset}_processed.csv\"\n",
        "    print(f\"Processing {dataset} dataset...\")\n",
        "    preprocess_dataset(input_file, output_file)\n",
        "    print(f\"{dataset} dataset processing completed.\")\n",
        "\n",
        "print(\"All datasets have been processed.\")"
      ]
    },
    {
      "cell_type": "markdown",
      "metadata": {
        "id": "ll8OmobAZGb4"
      },
      "source": [
        "### Generation of molecular features"
      ]
    },
    {
      "cell_type": "code",
      "execution_count": 4,
      "metadata": {
        "colab": {
          "base_uri": "https://localhost:8080/"
        },
        "id": "1I___9QmH9yo",
        "outputId": "09abe005-e5f6-4d82-cb4b-33c8eadaf14a"
      },
      "outputs": [
        {
          "output_type": "stream",
          "name": "stdout",
          "text": [
            "Train fingerprints shape: (1634, 1024)\n",
            "Valid fingerprints shape: (205, 1024)\n",
            "Test fingerprints shape: (192, 1024)\n",
            "All data has been processed and saved.\n"
          ]
        }
      ],
      "source": [
        "import pandas as pd\n",
        "import numpy as np\n",
        "from rdkit import Chem\n",
        "from rdkit.Chem import AllChem\n",
        "\n",
        "from rdkit import RDLogger\n",
        "import time\n",
        "\n",
        "# RDKit의 로그 레벨을 ERROR로 설정하여 deprecation 경고 숨기기\n",
        "RDLogger.logger().setLevel(RDLogger.ERROR)\n",
        "\n",
        "def read_dataset(file_path):\n",
        "    \"\"\"\n",
        "    CSV 파일을 읽어 pandas DataFrame으로 반환합니다.\n",
        "\n",
        "    :param file_path: CSV 파일 경로\n",
        "    :return: pandas DataFrame\n",
        "    \"\"\"\n",
        "    df = pd.read_csv(file_path)\n",
        "    return df\n",
        "\n",
        "def smiles_to_ecfp4(smiles, radius=2, nBits=1024):\n",
        "    mol = Chem.MolFromSmiles(smiles)\n",
        "    if mol is None:\n",
        "        return None\n",
        "\n",
        "    # ECFP4 fingerprint 생성 (radius=2)\n",
        "    fp = AllChem.GetMorganFingerprintAsBitVect(mol, radius=radius, nBits=nBits)\n",
        "\n",
        "    # bit vector를 numpy array로 변환\n",
        "    fp_array = np.zeros((nBits,), dtype=int)\n",
        "    for i in range(nBits):\n",
        "        fp_array[i] = fp[i]\n",
        "\n",
        "    return fp_array\n",
        "\n",
        "def generate_fingerprints(df, smiles_column='processed_smiles', size=1024, radius=2):\n",
        "    \"\"\"\n",
        "    주어진 DataFrame의 SMILES 열을 사용하여 circular fingerprints를 생성합니다.\n",
        "\n",
        "    :param df: 입력 DataFrame\n",
        "    :param smiles_column: SMILES 정보가 있는 열 이름\n",
        "    :param size: fingerprint 길이\n",
        "    :param radius: 원자 환경을 고려할 반경\n",
        "    :return: numpy array 형태의 fingerprints\n",
        "    \"\"\"\n",
        "    smiles_list = df[smiles_column].tolist()\n",
        "    features = []\n",
        "    for each_smiles in smiles_list:\n",
        "        feature = smiles_to_ecfp4(each_smiles, radius=radius, nBits=size)\n",
        "        features.append(feature)\n",
        "    return np.asarray(features)\n",
        "\n",
        "\n",
        "def process_dataset(file_path, generate_fp=True):\n",
        "    \"\"\"\n",
        "    주어진 파일 경로의 데이터셋을 처리하여 fingerprints를 생성합니다.\n",
        "\n",
        "    :param file_path: 처리할 CSV 파일 경로\n",
        "    :param generate_fp: fingerprints 생성 여부\n",
        "    :return: 생성된 특성들을 포함하는 딕셔너리와 타겟 값\n",
        "    \"\"\"\n",
        "    df = read_dataset(file_path)\n",
        "    y = df['p_np'].values  # 타겟 값 추출\n",
        "\n",
        "    results = {}\n",
        "    if generate_fp:\n",
        "        fingerprints = generate_fingerprints(df)\n",
        "        results['fingerprints'] = fingerprints\n",
        "\n",
        "    return results, y\n",
        "\n",
        "# 데이터셋 처리 및 특성 생성\n",
        "train_results, train_y = process_dataset('train_processed.csv')\n",
        "valid_results, valid_y = process_dataset('valid_processed.csv')\n",
        "test_results, test_y = process_dataset('test_processed.csv')\n",
        "\n",
        "# 생성된 특성의 형태 출력\n",
        "print(\"Train fingerprints shape:\", train_results['fingerprints'].shape)\n",
        "print(\"Valid fingerprints shape:\", valid_results['fingerprints'].shape)\n",
        "print(\"Test fingerprints shape:\", test_results['fingerprints'].shape)\n",
        "\n",
        "# 생성된 특성과 타겟 값을 numpy 파일로 저장\n",
        "np.save('./train_X.npy', train_results['fingerprints'])\n",
        "np.save('./valid_X.npy', valid_results['fingerprints'])\n",
        "np.save('./test_X.npy', test_results['fingerprints'])\n",
        "np.save('./train_y.npy', train_y)\n",
        "np.save('./valid_y.npy', valid_y)\n",
        "np.save('./test_y.npy', test_y)\n",
        "\n",
        "print(\"All data has been processed and saved.\")"
      ]
    },
    {
      "cell_type": "code",
      "source": [
        "print(train_y)"
      ],
      "metadata": {
        "colab": {
          "base_uri": "https://localhost:8080/"
        },
        "id": "TvHcpb_Fu-yl",
        "outputId": "3f1dafcb-996b-404c-d646-61fb61a3e654"
      },
      "execution_count": 7,
      "outputs": [
        {
          "output_type": "stream",
          "name": "stdout",
          "text": [
            "[1 1 1 ... 1 1 1]\n"
          ]
        }
      ]
    },
    {
      "cell_type": "markdown",
      "metadata": {
        "id": "DsoTEu-1ZRQ2"
      },
      "source": [
        "### Data distribution"
      ]
    },
    {
      "cell_type": "code",
      "execution_count": 5,
      "metadata": {
        "colab": {
          "base_uri": "https://localhost:8080/"
        },
        "id": "jEwhYpIwZRWR",
        "outputId": "eb5479e2-ea43-4f06-b228-23f9bf816df4"
      },
      "outputs": [
        {
          "output_type": "stream",
          "name": "stdout",
          "text": [
            "1286\n",
            "348\n"
          ]
        }
      ],
      "source": [
        "print(len(train_y[train_y==1])) # BBB Permeable\n",
        "print(len(train_y[train_y==0])) # BBB Non-permeable"
      ]
    },
    {
      "cell_type": "markdown",
      "metadata": {
        "id": "th1FCKMqXeFk"
      },
      "source": [
        "### Model training"
      ]
    },
    {
      "cell_type": "code",
      "execution_count": 6,
      "metadata": {
        "colab": {
          "base_uri": "https://localhost:8080/"
        },
        "id": "I3Ode4LOXeLT",
        "outputId": "166127ff-73f6-4899-ca58-7d624e4da248"
      },
      "outputs": [
        {
          "output_type": "stream",
          "name": "stdout",
          "text": [
            "Training random_forest_original...\n",
            "Model saved: saved_models/random_forest_original.pkl\n",
            "Training random_forest_under...\n",
            "Model saved: saved_models/random_forest_under.pkl\n",
            "Training random_forest_over...\n",
            "Model saved: saved_models/random_forest_over.pkl\n",
            "Training random_forest_smote...\n",
            "Model saved: saved_models/random_forest_smote.pkl\n",
            "Results saved to 'rf_evaluation_results.csv'\n",
            "\n",
            "=== Random Forest 결과 ===\n",
            "                                   ACC     AUROC       MCC  Precision  \\\n",
            "random_forest_original train  0.993880  0.999876  0.981712   0.995342   \n",
            "                       valid  0.843902  0.942011  0.604781   0.834320   \n",
            "                       test   0.843750  0.941218  0.677235   0.802632   \n",
            "random_forest_under    train  0.918605  0.992872  0.803595   0.998271   \n",
            "                       valid  0.873171  0.931034  0.727084   0.961240   \n",
            "                       test   0.885417  0.922600  0.751370   0.903226   \n",
            "random_forest_over     train  0.993268  0.999789  0.980144   0.998436   \n",
            "                       valid  0.897561  0.944828  0.745562   0.897436   \n",
            "                       test   0.864583  0.937763  0.712222   0.833333   \n",
            "random_forest_smote    train  0.993880  0.999878  0.981694   0.994574   \n",
            "                       valid  0.839024  0.929540  0.594733   0.858974   \n",
            "                       test   0.833333  0.911358  0.639617   0.808219   \n",
            "\n",
            "                                Recall  \n",
            "random_forest_original train  0.996890  \n",
            "                       valid  0.972414  \n",
            "                       test   1.000000  \n",
            "random_forest_under    train  0.898134  \n",
            "                       valid  0.855172  \n",
            "                       test   0.918033  \n",
            "random_forest_over     train  0.993002  \n",
            "                       valid  0.965517  \n",
            "                       test   0.983607  \n",
            "random_forest_smote    train  0.997667  \n",
            "                       valid  0.924138  \n",
            "                       test   0.967213  \n"
          ]
        }
      ],
      "source": [
        "# 필요한 라이브러리 임포트\n",
        "import numpy as np\n",
        "import pandas as pd\n",
        "from sklearn.ensemble import RandomForestClassifier\n",
        "from sklearn.metrics import accuracy_score, roc_auc_score, matthews_corrcoef, precision_score, recall_score\n",
        "from imblearn.under_sampling import RandomUnderSampler\n",
        "from imblearn.over_sampling import RandomOverSampler, SMOTE\n",
        "import os\n",
        "import joblib\n",
        "\n",
        "\n",
        "def load_data(prefix):\n",
        "    \"\"\"\n",
        "    지정된 접두사를 가진 numpy 파일에서 특성(X)과 레이블(y)을 로드합니다.\n",
        "    \"\"\"\n",
        "    X = np.load(f\"{prefix}_X.npy\")\n",
        "    y = np.load(f\"{prefix}_y.npy\")\n",
        "    return X, y\n",
        "\n",
        "def evaluate_model(model, X, y):\n",
        "    \"\"\"\n",
        "    주어진 모델을 평가하고 여러 성능 지표를 반환합니다.\n",
        "    \"\"\"\n",
        "    # 예측 수행\n",
        "    y_pred = model.predict(X)\n",
        "    y_pred_proba = model.predict_proba(X)[:, 1]  # 양성 클래스 확률\n",
        "\n",
        "    # 성능 지표 계산\n",
        "    metrics = {\n",
        "        \"ACC\": accuracy_score(y, y_pred),\n",
        "        \"AUROC\": roc_auc_score(y, y_pred_proba),\n",
        "        \"MCC\": matthews_corrcoef(y, y_pred),\n",
        "        \"Precision\": precision_score(y, y_pred, zero_division=0),\n",
        "        \"Recall\": recall_score(y, y_pred, zero_division=0)\n",
        "    }\n",
        "\n",
        "    return metrics\n",
        "\n",
        "def train_and_evaluate(X_train, y_train, X_valid, y_valid, X_test, y_test, sampling_method=None):\n",
        "    # 샘플링 방법 적용 (지정된 경우)\n",
        "    if sampling_method:\n",
        "        if sampling_method == \"under\":\n",
        "            sampler = RandomUnderSampler(random_state=42)\n",
        "        elif sampling_method == \"over\":\n",
        "            sampler = RandomOverSampler(random_state=42)\n",
        "        elif sampling_method == \"smote\":\n",
        "            sampler = SMOTE(random_state=42)\n",
        "        X_train_resampled, y_train_resampled = sampler.fit_resample(X_train, y_train)\n",
        "    else:\n",
        "        X_train_resampled, y_train_resampled = X_train, y_train\n",
        "\n",
        "    # RandomForest 모델 생성 및 학습\n",
        "    model = RandomForestClassifier(random_state=42, n_estimators=100)\n",
        "    model.fit(X_train_resampled, y_train_resampled)\n",
        "    model_path = save_model(model, sampling_method)\n",
        "\n",
        "    # 각 데이터셋에 대해 모델 평가\n",
        "    train_metrics = evaluate_model(model, X_train, y_train)\n",
        "    valid_metrics = evaluate_model(model, X_valid, y_valid)\n",
        "    test_metrics = evaluate_model(model, X_test, y_test)\n",
        "\n",
        "    return {\n",
        "        \"train\": train_metrics,\n",
        "        \"valid\": valid_metrics,\n",
        "        \"test\": test_metrics\n",
        "    }\n",
        "\n",
        "def save_model(model, sampling_method, model_dir=\"saved_models\"):\n",
        "    \"\"\"\n",
        "    훈련된 모델을 저장합니다.\n",
        "    \"\"\"\n",
        "    # 모델 저장 디렉토리 생성\n",
        "    os.makedirs(model_dir, exist_ok=True)\n",
        "\n",
        "    # 파일명 생성\n",
        "    model_name = f\"random_forest_{sampling_method if sampling_method else 'original'}.pkl\"\n",
        "    model_path = os.path.join(model_dir, model_name)\n",
        "\n",
        "    # 모델 저장\n",
        "    joblib.dump(model, model_path)\n",
        "    print(f\"Model saved: {model_path}\")\n",
        "\n",
        "    return model_path\n",
        "\n",
        "def load_saved_model(model_path):\n",
        "    \"\"\"\n",
        "    저장된 모델을 로드합니다.\n",
        "    \"\"\"\n",
        "    return joblib.load(model_path)\n",
        "\n",
        "# 데이터 로드\n",
        "X_train, y_train = load_data(\"train\")\n",
        "X_valid, y_valid = load_data(\"valid\")\n",
        "X_test, y_test = load_data(\"test\")\n",
        "\n",
        "# 샘플링 방법 설정\n",
        "sampling_methods = [None, \"under\", \"over\", \"smote\"]\n",
        "results = {}\n",
        "\n",
        "# 각 샘플링 방법에 대해 학습 및 평가 수행\n",
        "for sampling in sampling_methods:\n",
        "    key = f\"random_forest_{sampling if sampling else 'original'}\"\n",
        "    print(f\"Training {key}...\")\n",
        "    results[key] = train_and_evaluate(X_train, y_train, X_valid, y_valid, X_test, y_test, sampling)\n",
        "\n",
        "# 결과를 DataFrame으로 변환\n",
        "df_results = pd.DataFrame.from_dict({(i,j): results[i][j]\n",
        "                                        for i in results.keys()\n",
        "                                        for j in results[i].keys()},\n",
        "                                    orient='index')\n",
        "\n",
        "# 결과를 CSV 파일로 저장\n",
        "df_results.to_csv('rf_evaluation_results.csv')\n",
        "print(\"Results saved to 'rf_evaluation_results.csv'\")\n",
        "\n",
        "# 결과 출력\n",
        "print(\"\\n=== Random Forest 결과 ===\")\n",
        "print(df_results)\n",
        "\n"
      ]
    },
    {
      "cell_type": "markdown",
      "source": [
        "# Machine learning based binding affinity prediction"
      ],
      "metadata": {
        "id": "8NCwNAiYzn_H"
      }
    },
    {
      "cell_type": "code",
      "source": [
        "!wget -O enamine_lib.smiles https://www.dropbox.com/scl/fi/7s40vsgavxtiy4fqk3dgi/Enamine_Hit_Locator_Library_plated_460160cmpds_20250511.smiles?rlkey=d1ixit28b8qgd9pc1p1usohuh&st=je40l477&dl=0 # 데이터셋 다운로드\n"
      ],
      "metadata": {
        "colab": {
          "base_uri": "https://localhost:8080/"
        },
        "id": "knvIbVfwzoGA",
        "outputId": "03c9e168-4d9c-4a0f-bad7-feacf32a0047"
      },
      "execution_count": 7,
      "outputs": [
        {
          "output_type": "stream",
          "name": "stdout",
          "text": [
            "--2025-05-23 01:51:51--  https://www.dropbox.com/scl/fi/7s40vsgavxtiy4fqk3dgi/Enamine_Hit_Locator_Library_plated_460160cmpds_20250511.smiles?rlkey=d1ixit28b8qgd9pc1p1usohuh\n",
            "Resolving www.dropbox.com (www.dropbox.com)... 162.125.81.18, 2620:100:6031:18::a27d:5112\n",
            "Connecting to www.dropbox.com (www.dropbox.com)|162.125.81.18|:443... connected.\n",
            "HTTP request sent, awaiting response... 302 Found\n",
            "Location: https://ucd25a7955f6f0bb94ccb5c76fc5.dl.dropboxusercontent.com/cd/0/inline/CqN-HXt6_V_oBUwtql4-kG-B6MPbwbMz5Vm9jpmbX2ABMLvAyXFeG6Uog87WX-3doR8GsyE4Hh2gvrC3RE7VJ-2djvGv4XibhxHG8c8kRwlik1ivr9wKVwn0KmXvJeieFrvEZOoYGtaxXnSXAs_f2aAL/file# [following]\n",
            "--2025-05-23 01:51:51--  https://ucd25a7955f6f0bb94ccb5c76fc5.dl.dropboxusercontent.com/cd/0/inline/CqN-HXt6_V_oBUwtql4-kG-B6MPbwbMz5Vm9jpmbX2ABMLvAyXFeG6Uog87WX-3doR8GsyE4Hh2gvrC3RE7VJ-2djvGv4XibhxHG8c8kRwlik1ivr9wKVwn0KmXvJeieFrvEZOoYGtaxXnSXAs_f2aAL/file\n",
            "Resolving ucd25a7955f6f0bb94ccb5c76fc5.dl.dropboxusercontent.com (ucd25a7955f6f0bb94ccb5c76fc5.dl.dropboxusercontent.com)... 162.125.81.15, 2620:100:6031:15::a27d:510f\n",
            "Connecting to ucd25a7955f6f0bb94ccb5c76fc5.dl.dropboxusercontent.com (ucd25a7955f6f0bb94ccb5c76fc5.dl.dropboxusercontent.com)|162.125.81.15|:443... connected.\n",
            "HTTP request sent, awaiting response... 200 OK\n",
            "Length: 70264869 (67M) [text/plain]\n",
            "Saving to: ‘enamine_lib.smiles’\n",
            "\n",
            "enamine_lib.smiles  100%[===================>]  67.01M  14.7MB/s    in 5.8s    \n",
            "\n",
            "2025-05-23 01:51:59 (11.6 MB/s) - ‘enamine_lib.smiles’ saved [70264869/70264869]\n",
            "\n"
          ]
        }
      ]
    },
    {
      "cell_type": "code",
      "execution_count": 8,
      "metadata": {
        "id": "kLsxmx5qaJac",
        "colab": {
          "base_uri": "https://localhost:8080/"
        },
        "outputId": "c6fc8ea3-e1dc-4172-88d2-d28005f5f16c"
      },
      "outputs": [
        {
          "output_type": "stream",
          "name": "stdout",
          "text": [
            "    Catalog ID                                             SMILES  \\\n",
            "0  Z2098971617      O=C(NC=1C=CC=C2C(=O)NCC12)C=3C=CC=4C=CC=CC4N3   \n",
            "1  Z5345841953        CC1=CNC(=N1)C=2C=CC=CC2NC(=O)C=3C=C(O)C=CN3   \n",
            "2  Z5345841539   CC1=CNC(=N1)C=2C=CC=CC2NC(=O)C=3C=C(C=CN3)C(N)=O   \n",
            "3  Z4767388026     O=C(NC=1C=CC=CC1C2=NC=3C=CC=CC3S2)C4=NC=CC=C4F   \n",
            "4  Z4958006172  O=C(NC=1C=CC(=CC1)C2=NC=3C=CC=CC3N2)C4=CC=CC=5...   \n",
            "\n",
            "   Vina Affinity (kcal/mol)  Pose                        Output File  \n",
            "0                      -8.3     1   docking_pose_Z2098971617_1.pdbqt  \n",
            "1                      -7.3    13  docking_pose_Z5345841953_13.pdbqt  \n",
            "2                      -7.7     1   docking_pose_Z5345841539_1.pdbqt  \n",
            "3                      -7.8     4   docking_pose_Z4767388026_4.pdbqt  \n",
            "4                      -8.9     1   docking_pose_Z4958006172_1.pdbqt  \n",
            "                                           SMILES   Catalog ID       MW  \\\n",
            "0        CC(OC=1C=CC=C(C#N)C1)C(=O)N2CCCCC2C(=O)O  Z1251193392  302.326   \n",
            "1      CCC(=O)NC1=CC=C(F)C(=C1)S(=O)(=O)NC(C)(C)C  Z1251673928  302.367   \n",
            "2        O=C(CN1C=CC=N1)NC2=NC=3C=CC=CC3N2C4CCCC4  Z1251687843  309.367   \n",
            "3    O=C1OCCN1C=2C=CC(=CC2)S(=O)(=O)NC=3C=CC=CC3F  Z1251701673  336.340   \n",
            "4  O=S(=O)(CC1CCCCO1)NC=2C=CC=CC2C3=NN=C4CCCCCN34  Z1251703037  390.502   \n",
            "\n",
            "   MW (desalted)  ClogP   logS  HBD  HBA   TPSA  RotBonds  \\\n",
            "0        302.326  2.444 -3.506    1    5  90.63         4   \n",
            "1        302.367  2.500 -2.949    2    3  75.27         4   \n",
            "2        309.367  2.992 -3.141    1    3  64.74         4   \n",
            "3        336.340  1.470 -4.298    1    4  75.71         3   \n",
            "4        390.502  2.467 -3.540    1    5  86.11         4   \n",
            "\n",
            "                                     AnalogsFromREAL  \n",
            "0  https://real.enamine.net/public-enum-files/Z12...  \n",
            "1  https://real.enamine.net/public-enum-files/Z12...  \n",
            "2  https://real.enamine.net/public-enum-files/Z12...  \n",
            "3  https://real.enamine.net/public-enum-files/Z12...  \n",
            "4  https://real.enamine.net/public-enum-files/Z12...  \n"
          ]
        }
      ],
      "source": [
        "import pandas as pd\n",
        "\n",
        "docking_result_df = pd.read_csv('./docking_results.csv', sep=',')\n",
        "print(docking_result_df.head())\n",
        "\n",
        "df = pd.read_csv('./enamine_lib.smiles', sep='\\t')\n",
        "print(df.head())"
      ]
    },
    {
      "cell_type": "code",
      "source": [
        "import pandas as pd\n",
        "import matplotlib.pyplot as plt\n",
        "import seaborn as sns\n",
        "\n",
        "# 데이터 로드\n",
        "docking_result_df = pd.read_csv('./docking_results.csv', sep=',')\n",
        "\n",
        "# Violin plot 그리기\n",
        "plt.figure(figsize=(8, 6))\n",
        "sns.violinplot(y=docking_result_df['Vina Affinity (kcal/mol)'])\n",
        "plt.title('Vina Affinity Distribution')\n",
        "plt.ylabel('Binding Affinity (kcal/mol)')\n",
        "plt.show()"
      ],
      "metadata": {
        "colab": {
          "base_uri": "https://localhost:8080/",
          "height": 526
        },
        "id": "fWIhb9PE-lM4",
        "outputId": "51f2d2a1-ba56-4752-8690-463325b1970f"
      },
      "execution_count": 9,
      "outputs": [
        {
          "output_type": "display_data",
          "data": {
            "text/plain": [
              "<Figure size 800x600 with 1 Axes>"
            ],
            "image/png": "[encoded data removed]"
          },
          "metadata": {}
        }
      ]
    },
    {
      "cell_type": "code",
      "source": [
        "# 필요한 라이브러리 임포트\n",
        "import pandas as pd\n",
        "import numpy as np\n",
        "from sklearn.ensemble import RandomForestRegressor\n",
        "from sklearn.model_selection import train_test_split\n",
        "from sklearn.metrics import mean_squared_error, r2_score, mean_absolute_error\n",
        "from rdkit import Chem\n",
        "from rdkit.Chem import AllChem\n",
        "import warnings\n",
        "import tqdm\n",
        "from sklearn.preprocessing import MinMaxScaler\n",
        "import matplotlib.pyplot as plt\n",
        "\n",
        "warnings.filterwarnings('ignore')\n",
        "\n",
        "def smiles_to_ecfp4(smiles, radius=2, nBits=1024):\n",
        "    mol = Chem.MolFromSmiles(smiles)\n",
        "    if mol is None:\n",
        "        return None\n",
        "\n",
        "    # ECFP4 fingerprint 생성 (radius=2)\n",
        "    fp = AllChem.GetMorganFingerprintAsBitVect(mol, radius=radius, nBits=nBits)\n",
        "\n",
        "    # bit vector를 numpy array로 변환\n",
        "    fp_array = np.zeros((nBits,), dtype=int)\n",
        "    for i in range(nBits):\n",
        "        fp_array[i] = fp[i]\n",
        "\n",
        "    return fp_array\n",
        "\n",
        "def prepare_ecfp4_features(df, smiles_column='SMILES', radius=2, nBits=1024):\n",
        "    print(f\"Calculating ECFP4 fingerprints for {len(df)} molecules...\")\n",
        "    print(f\"Parameters: radius={radius}, nBits={nBits}\")\n",
        "\n",
        "    features_list = []\n",
        "    valid_indices = []\n",
        "\n",
        "    for idx, smiles in tqdm.tqdm(enumerate(df[smiles_column]), total=len(df), desc=\"Processing molecules\"):\n",
        "        if pd.isna(smiles):\n",
        "            continue\n",
        "\n",
        "        fp_array = smiles_to_ecfp4(smiles, radius=radius, nBits=nBits)\n",
        "        if fp_array is not None:\n",
        "            features_list.append(fp_array)\n",
        "            valid_indices.append(idx)\n",
        "\n",
        "    if len(features_list) == 0:\n",
        "        return None, []\n",
        "\n",
        "    # numpy array로 변환\n",
        "    features_matrix = np.array(features_list)\n",
        "\n",
        "    print(f\"Successfully generated fingerprints for {len(features_matrix)} molecules\")\n",
        "    print(f\"Fingerprint shape: {features_matrix.shape}\")\n",
        "\n",
        "    return features_matrix, valid_indices\n",
        "\n",
        "\n",
        "# 기존 코드\n",
        "docking_result_df = pd.read_csv('./docking_results.csv', sep=',')\n",
        "docking_result_df['Vina Affinity Transform'] = docking_result_df['Vina Affinity (kcal/mol)']*-1.0/15.0\n",
        "\n",
        "# 1. 학습 데이터 준비 (ECFP4 사용)\n",
        "print(\"\\n=== Preparing Training Data with ECFP4 ===\")\n",
        "# SMILES에서 ECFP4 fingerprint 추출\n",
        "train_features, train_valid_indices = prepare_ecfp4_features(docking_result_df, 'SMILES', radius=2, nBits=1024)\n",
        "\n",
        "# 유효한 인덱스에 해당하는 타겟 값 추출\n",
        "train_target = docking_result_df.loc[train_valid_indices, 'Vina Affinity Transform'].values\n",
        "\n",
        "print(f\"Training features shape: {train_features.shape}\")\n",
        "print(f\"Target values shape: {train_target.shape}\")\n",
        "print(f\"Target statistics - Min: {train_target.min():.3f}, Max: {train_target.max():.3f}, Mean: {train_target.mean():.3f}\")\n",
        "\n",
        "# ECFP4 fingerprint 통계\n",
        "print(f\"Fingerprint density: {(train_features.sum() / train_features.size * 100):.2f}% (non-zero bits)\")\n",
        "\n",
        "# 2. 모델 학습\n",
        "print(\"\\n=== Training Random Forest Model with ECFP4 ===\")\n",
        "# 데이터 분할\n",
        "X_train, X_test, y_train, y_test = train_test_split(\n",
        "    train_features, train_target, test_size=0.2, random_state=42\n",
        ")\n",
        "\n",
        "# Random Forest 회귀 모델 생성 및 학습\n",
        "rf_model = RandomForestRegressor()\n",
        "\n",
        "print(\"Training Random Forest model...\")\n",
        "rf_model.fit(X_train, y_train)\n",
        "\n",
        "# 3. 모델 평가\n",
        "print(\"\\n=== Model Evaluation ===\")\n",
        "train_pred = rf_model.predict(X_train)\n",
        "test_pred = rf_model.predict(X_test)\n",
        "\n",
        "print(\"Training Set:\")\n",
        "print(f\"  R² Score: {r2_score(y_train, train_pred):.4f}\")\n",
        "print(f\"  RMSE: {np.sqrt(mean_squared_error(y_train, train_pred)):.4f}\")\n",
        "\n",
        "print(\"Test Set:\")\n",
        "print(f\"  R² Score: {r2_score(y_test, test_pred):.4f}\")\n",
        "print(f\"  RMSE: {np.sqrt(mean_squared_error(y_test, test_pred)):.4f}\")\n",
        "\n",
        "\n",
        "plt.scatter(test_pred, y_test, alpha=0.6)\n",
        "plt.xlabel('Predicted')\n",
        "plt.ylabel('Actual')\n",
        "plt.plot([y_test.min(), y_test.max()], [y_test.min(), y_test.max()], 'r--', alpha=0.8)\n",
        "plt.show()\n",
        "\n",
        "# 4. 새로운 데이터에 예측 적용\n",
        "print(\"\\n=== Predicting on New Data with ECFP4 ===\")\n",
        "\n",
        "df = pd.read_csv('./enamine_lib.smiles', sep='\\t')\n",
        "\n",
        "print(\"Enamine Library Data:\")\n",
        "print(df.head())\n",
        "\n",
        "# 새로운 데이터에서 ECFP4 fingerprint 추출\n",
        "pred_features, pred_valid_indices = prepare_ecfp4_features(df, 'SMILES', radius=2, nBits=1024)\n",
        "\n",
        "# 예측 수행\n",
        "print(\"Making predictions...\")\n",
        "predictions = rf_model.predict(pred_features)\n",
        "\n",
        "# 결과를 원본 DataFrame에 추가\n",
        "df['predicted_affinity'] = np.nan\n",
        "df.loc[pred_valid_indices, 'predicted_affinity'] = predictions\n",
        "\n",
        "print(f\"Predictions completed for {len(pred_valid_indices)} molecules out of {len(df)}\")\n",
        "print(f\"Predicted affinity statistics:\")\n",
        "print(f\"  Min: {predictions.min():.3f}\")\n",
        "print(f\"  Max: {predictions.max():.3f}\")\n",
        "print(f\"  Mean: {predictions.mean():.3f}\")\n",
        "print(f\"  Std: {predictions.std():.3f}\")\n",
        "\n",
        "\n",
        "# 5. 상위 1000개 화합물 선별 (affinity가 낮을수록 좋음)\n",
        "print(\"\\n=== Selecting Top 1000 Compounds ===\")\n",
        "# NaN 값 제외하고 정렬\n",
        "df_valid = df.dropna(subset=['predicted_affinity'])\n",
        "top_1000 = df_valid.nlargest(1000, 'predicted_affinity')\n",
        "\n",
        "# 결과 저장\n",
        "top_1000.to_csv('lib_ml_selected.csv', index=False)\n",
        "df.to_csv('lib_ml_all.csv', index=False)\n"
      ],
      "metadata": {
        "colab": {
          "base_uri": "https://localhost:8080/",
          "height": 1000
        },
        "id": "1UYHalf42W8i",
        "outputId": "cea08359-7b33-44f2-8b0a-f6beee054a26"
      },
      "execution_count": 10,
      "outputs": [
        {
          "output_type": "stream",
          "name": "stdout",
          "text": [
            "\n",
            "=== Preparing Training Data with ECFP4 ===\n",
            "Calculating ECFP4 fingerprints for 998 molecules...\n",
            "Parameters: radius=2, nBits=1024\n"
          ]
        },
        {
          "output_type": "stream",
          "name": "stderr",
          "text": [
            "Processing molecules: 100%|██████████| 998/998 [00:00<00:00, 1302.14it/s]\n"
          ]
        },
        {
          "output_type": "stream",
          "name": "stdout",
          "text": [
            "Successfully generated fingerprints for 998 molecules\n",
            "Fingerprint shape: (998, 1024)\n",
            "Training features shape: (998, 1024)\n",
            "Target values shape: (998,)\n",
            "Target statistics - Min: 0.413, Max: 0.733, Mean: 0.544\n",
            "Fingerprint density: 4.80% (non-zero bits)\n",
            "\n",
            "=== Training Random Forest Model with ECFP4 ===\n",
            "Training Random Forest model...\n",
            "\n",
            "=== Model Evaluation ===\n",
            "Training Set:\n",
            "  R² Score: 0.9340\n",
            "  RMSE: 0.0133\n",
            "Test Set:\n",
            "  R² Score: 0.4764\n",
            "  RMSE: 0.0344\n"
          ]
        },
        {
          "output_type": "display_data",
          "data": {
            "text/plain": [
              "<Figure size 640x480 with 1 Axes>"
            ],
            "image/png": "[encoded data removed]"
          },
          "metadata": {}
        },
        {
          "output_type": "stream",
          "name": "stdout",
          "text": [
            "\n",
            "=== Predicting on New Data with ECFP4 ===\n",
            "Enamine Library Data:\n",
            "                                           SMILES   Catalog ID       MW  \\\n",
            "0        CC(OC=1C=CC=C(C#N)C1)C(=O)N2CCCCC2C(=O)O  Z1251193392  302.326   \n",
            "1      CCC(=O)NC1=CC=C(F)C(=C1)S(=O)(=O)NC(C)(C)C  Z1251673928  302.367   \n",
            "2        O=C(CN1C=CC=N1)NC2=NC=3C=CC=CC3N2C4CCCC4  Z1251687843  309.367   \n",
            "3    O=C1OCCN1C=2C=CC(=CC2)S(=O)(=O)NC=3C=CC=CC3F  Z1251701673  336.340   \n",
            "4  O=S(=O)(CC1CCCCO1)NC=2C=CC=CC2C3=NN=C4CCCCCN34  Z1251703037  390.502   \n",
            "\n",
            "   MW (desalted)  ClogP   logS  HBD  HBA   TPSA  RotBonds  \\\n",
            "0        302.326  2.444 -3.506    1    5  90.63         4   \n",
            "1        302.367  2.500 -2.949    2    3  75.27         4   \n",
            "2        309.367  2.992 -3.141    1    3  64.74         4   \n",
            "3        336.340  1.470 -4.298    1    4  75.71         3   \n",
            "4        390.502  2.467 -3.540    1    5  86.11         4   \n",
            "\n",
            "                                     AnalogsFromREAL  \n",
            "0  https://real.enamine.net/public-enum-files/Z12...  \n",
            "1  https://real.enamine.net/public-enum-files/Z12...  \n",
            "2  https://real.enamine.net/public-enum-files/Z12...  \n",
            "3  https://real.enamine.net/public-enum-files/Z12...  \n",
            "4  https://real.enamine.net/public-enum-files/Z12...  \n",
            "Calculating ECFP4 fingerprints for 300000 molecules...\n",
            "Parameters: radius=2, nBits=1024\n"
          ]
        },
        {
          "output_type": "stream",
          "name": "stderr",
          "text": [
            "Processing molecules: 100%|██████████| 300000/300000 [03:43<00:00, 1339.81it/s]\n"
          ]
        },
        {
          "output_type": "stream",
          "name": "stdout",
          "text": [
            "Successfully generated fingerprints for 300000 molecules\n",
            "Fingerprint shape: (300000, 1024)\n",
            "Making predictions...\n",
            "Predictions completed for 300000 molecules out of 300000\n",
            "Predicted affinity statistics:\n",
            "  Min: 0.449\n",
            "  Max: 0.658\n",
            "  Mean: 0.528\n",
            "  Std: 0.021\n",
            "\n",
            "=== Selecting Top 1000 Compounds ===\n"
          ]
        }
      ]
    },
    {
      "cell_type": "code",
      "source": [],
      "metadata": {
        "colab": {
          "base_uri": "https://localhost:8080/"
        },
        "id": "Mu1BW68Q5V7v",
        "outputId": "5d68927b-04d8-439f-bde7-45774a9c718a"
      },
      "execution_count": 11,
      "outputs": [
        {
          "output_type": "stream",
          "name": "stdout",
          "text": [
            "\n",
            "=== Selecting Top 1000 Compounds ===\n"
          ]
        }
      ]
    },
    {
      "cell_type": "code",
      "source": [
        "import numpy as np\n",
        "import pandas as pd\n",
        "from sklearn.ensemble import RandomForestClassifier\n",
        "from sklearn.metrics import accuracy_score, roc_auc_score, matthews_corrcoef, precision_score, recall_score\n",
        "from imblearn.under_sampling import RandomUnderSampler\n",
        "from imblearn.over_sampling import RandomOverSampler, SMOTE\n",
        "import os\n",
        "import joblib\n",
        "warnings.filterwarnings('ignore')\n",
        "\n",
        "def smiles_to_ecfp4(smiles, radius=2, nBits=1024):\n",
        "    mol = Chem.MolFromSmiles(smiles)\n",
        "    if mol is None:\n",
        "        return None\n",
        "\n",
        "    # ECFP4 fingerprint 생성 (radius=2)\n",
        "    fp = AllChem.GetMorganFingerprintAsBitVect(mol, radius=radius, nBits=nBits)\n",
        "\n",
        "    # bit vector를 numpy array로 변환\n",
        "    fp_array = np.zeros((nBits,), dtype=int)\n",
        "    for i in range(nBits):\n",
        "        fp_array[i] = fp[i]\n",
        "\n",
        "    return fp_array\n",
        "\n",
        "def load_saved_model(model_path):\n",
        "    \"\"\"\n",
        "    저장된 모델을 로드합니다.\n",
        "    \"\"\"\n",
        "    return joblib.load(model_path)\n",
        "\n",
        "df = pd.read_csv(\"lib_ml_selected.csv\")\n",
        "features = []\n",
        "for each_smiles in df['SMILES']:\n",
        "    feature = smiles_to_ecfp4(each_smiles, radius=2, nBits=1024)\n",
        "    features.append(feature)\n",
        "\n",
        "model_path = './saved_models/random_forest_original.pkl'\n",
        "rf_model = load_saved_model(model_path)\n",
        "\n",
        "results = rf_model.predict_proba(features)\n",
        "print(results)\n",
        "\n",
        "df['BBBP_probability'] = results[:, 1]  # permeable 확률 (1 클래스)\n",
        "df['BBBP'] = (results[:, 1] > 0.5).astype(int)\n",
        "\n",
        "output_filename = \"lib_ml_selected_with_bbbp_predictions.csv\"\n",
        "df.to_csv(output_filename, index=False)\n",
        "\n",
        "print(\"\\n=== 예측 결과 샘플 ===\")\n",
        "print(df[['SMILES', 'BBBP_probability', 'BBBP']].head(10))"
      ],
      "metadata": {
        "colab": {
          "base_uri": "https://localhost:8080/"
        },
        "id": "hbbv_uZo1R7v",
        "outputId": "ea012708-0882-40bf-87d2-ba92398ce3b5"
      },
      "execution_count": 12,
      "outputs": [
        {
          "output_type": "stream",
          "name": "stdout",
          "text": [
            "[[0.11       0.89      ]\n",
            " [0.21583333 0.78416667]\n",
            " [0.18       0.82      ]\n",
            " ...\n",
            " [0.175      0.825     ]\n",
            " [0.21       0.79      ]\n",
            " [0.1        0.9       ]]\n",
            "\n",
            "=== 예측 결과 샘플 ===\n",
            "                                              SMILES  BBBP_probability  BBBP\n",
            "0  O=C(CCN1C(=O)NC(=O)C=2C=CC=CC21)NCCC=3C=CC=C(F)C3          0.890000     1\n",
            "1  CC=1C=C(C=CC1[N+]([O-])=O)C(=O)NC=2C=CC=C(C2)C...          0.784167     1\n",
            "2         CC1=NC(C)=C(CCC(=O)NC=2C=CC=C(F)C2)C(=O)N1          0.820000     1\n",
            "3  O=C(CN1C(=O)NC(=O)C=2C=CC=CC21)NC3=CC=C(F)C(F)=C3          0.930000     1\n",
            "4  CC(NC(=O)CN1C(=O)NC(=O)C=2C=CC=CC21)C=3C=CC=4C...          0.790000     1\n",
            "5  CC=1C=NC=2C(=CC=CC2C1)S(=O)(=O)N3CCCN(CC3)C(=O...          0.790000     1\n",
            "6  CC=1C=NC=2C(=CC=CC2C1)S(=O)(=O)N3CCN(CC3)C(=O)...          0.750000     1\n",
            "7  CC=1C=CC=C2C(=O)N(C=NC12)CC(=O)NC=3C=CC=C(C3)C...          0.821500     1\n",
            "8  CC=1C=NC=2C(=CC=CC2C1)S(=O)(=O)N3CCN(CC3)C(=O)...          0.755000     1\n",
            "9  COC=1C=CC(=CC1OC)C2CCCN2C(=O)CN3C(=O)NC(=O)C=4...          0.816667     1\n"
          ]
        }
      ]
    },
    {
      "cell_type": "code",
      "source": [],
      "metadata": {
        "id": "GTvJUeo-2W-1"
      },
      "execution_count": null,
      "outputs": []
    },
    {
      "cell_type": "code",
      "source": [],
      "metadata": {
        "id": "Mpuag1DL2XBK"
      },
      "execution_count": null,
      "outputs": []
    },
    {
      "cell_type": "code",
      "source": [],
      "metadata": {
        "id": "zeTTYrxL2XC0"
      },
      "execution_count": null,
      "outputs": []
    }
  ],
  "metadata": {
    "colab": {
      "provenance": [],
      "machine_shape": "hm",
      "authorship_tag": "ABX9TyMjKsQUxJHkGTXBa0GSgsGp",
      "include_colab_link": true
    },
    "kernelspec": {
      "display_name": "Python 3",
      "name": "python3"
    },
    "language_info": {
      "name": "python"
    }
  },
  "nbformat": 4,
  "nbformat_minor": 0
}