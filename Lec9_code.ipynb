{
  "nbformat": 4,
  "nbformat_minor": 0,
  "metadata": {
    "colab": {
      "provenance": [],
      "include_colab_link": true
    },
    "kernelspec": {
      "name": "python3",
      "display_name": "Python 3"
    },
    "accelerator": "GPU"
  },
  "cells": [
    {
      "cell_type": "markdown",
      "metadata": {
        "id": "view-in-github",
        "colab_type": "text"
      },
      "source": [
        "<a href=\"https://colab.research.google.com/github/jyryu3161/DrugDiscovery/blob/main/Lec9_code.ipynb\" target=\"_parent\"><img src=\"https://colab.research.google.com/assets/colab-badge.svg\" alt=\"Open In Colab\"/></a>"
      ]
    },
    {
      "cell_type": "markdown",
      "metadata": {
        "id": "sMITd6s6hEGp"
      },
      "source": [
        "## Virtual Screening Using Molecular Docking"
      ]
    },
    {
      "cell_type": "markdown",
      "source": [
        "# Installation"
      ],
      "metadata": {
        "id": "FWgtcjAMFFAu"
      }
    },
    {
      "cell_type": "code",
      "source": [
        "!git clone https://github.com/jyryu3161/DrugDiscovery.git\n",
        "!chmod u+x ./DrugDiscovery/qvina2.1\n",
        "!chmod u+x ./DrugDiscovery/vina"
      ],
      "metadata": {
        "id": "FybJINLh6J7O"
      },
      "execution_count": null,
      "outputs": []
    },
    {
      "cell_type": "code",
      "source": [
        "!pip install -q condacolab # install the condacolab package\n",
        "import condacolab # Import and initialize condacolab\n",
        "condacolab.install()"
      ],
      "metadata": {
        "id": "C9cn_7fa6jk5"
      },
      "execution_count": null,
      "outputs": []
    },
    {
      "cell_type": "code",
      "source": [
        "import condacolab\n",
        "condacolab.check() # verification of the installation"
      ],
      "metadata": {
        "id": "g0IEf_jD6lBn"
      },
      "execution_count": null,
      "outputs": []
    },
    {
      "cell_type": "code",
      "source": [
        "# Create a new environment (optional)\n",
        "!conda create -n myenv python=3.9 -y\n"
      ],
      "metadata": {
        "id": "x6ICrp456mSu"
      },
      "execution_count": null,
      "outputs": []
    },
    {
      "cell_type": "code",
      "source": [
        "# Install packages\n",
        "!conda install -c conda-forge matplotlib rdkit -y\n"
      ],
      "metadata": {
        "id": "qOuDsOxe2pSj"
      },
      "execution_count": null,
      "outputs": []
    },
    {
      "cell_type": "code",
      "source": [
        "!pip install --pre deepchem\n",
        "!pip install ogb\n",
        "!pip install py3Dmol # 3D Molecular Visualizer\n",
        "!pip install oddt"
      ],
      "metadata": {
        "id": "ZSAfXz6SxLIK"
      },
      "execution_count": null,
      "outputs": []
    },
    {
      "cell_type": "markdown",
      "source": [
        "# Input setting"
      ],
      "metadata": {
        "id": "9XTof7TSFOS3"
      }
    },
    {
      "cell_type": "code",
      "source": [
        "protein_pdb_file = './DrugDiscovery/STK33_alphafold.pdb'\n",
        "center = (11.5518, 1.2844, 2.5799) # 예측된 binding site를 넣을 것 - x, y, z\n",
        "smiles = 'COc1ccc(cc1)-n1ncc2ccc(Nc3ccc(N4CCN(C)CC4)c(OC)c3)nc12'\n",
        "docking_output_dir = './output_ref/'\n"
      ],
      "metadata": {
        "id": "MytDY8p_FOZA"
      },
      "execution_count": null,
      "outputs": []
    },
    {
      "cell_type": "markdown",
      "source": [
        "# Run molecular docking"
      ],
      "metadata": {
        "id": "eAKnHmsrFS2p"
      }
    },
    {
      "cell_type": "code",
      "source": [
        "import py3Dmol\n",
        "import rdkit\n",
        "from rdkit import Chem\n",
        "from rdkit.Chem import AllChem\n",
        "\n",
        "def make_3d_coordinate_test(m):\n",
        "    target_mols = []\n",
        "    m = Chem.AddHs(m)\n",
        "    potential = AllChem.ETKDG()\n",
        "    AllChem.EmbedMolecule(m, potential)\n",
        "    cids = AllChem.EmbedMultipleConfs(m, numConfs=1, numThreads=15)\n",
        "\n",
        "    for conf in m.GetConformers():\n",
        "        tm = Chem.Mol(m,False,conf.GetId())\n",
        "        res = AllChem.MMFFOptimizeMoleculeConfs(tm)\n",
        "        target_mols.append(tm)\n",
        "    return target_mols[0]\n"
      ],
      "metadata": {
        "id": "r9lrjsfbwPok"
      },
      "execution_count": null,
      "outputs": []
    },
    {
      "cell_type": "code",
      "source": [
        "import os\n",
        "import time\n",
        "\n",
        "try:\n",
        "    os.mkdir(docking_output_dir)\n",
        "except:\n",
        "    pass\n",
        "\n",
        "import rdkit\n",
        "from rdkit import Chem\n",
        "from rdkit.Chem import AllChem\n",
        "import oddt\n",
        "from oddt.docking.AutodockVina import autodock_vina\n",
        "from oddt.docking import AutodockVina\n",
        "\n",
        "s = time.time()\n",
        "\n",
        "mol = Chem.MolFromSmiles(smiles)\n",
        "mol = Chem.AddHs(mol)\n",
        "\n",
        "mol = make_3d_coordinate_test(mol)\n",
        "\n",
        "with Chem.SDWriter('molecule.sdf') as w:\n",
        "    w.write(mol)\n",
        "\n",
        "\n",
        "protein_file = protein_pdb_file\n",
        "\n",
        "protein = next(oddt.toolkit.readfile('pdb', protein_file))\n",
        "protein.protein = True\n",
        "\n",
        "mol = Chem.MolFromMolFile('molecule.sdf')\n",
        "mol2 = Chem.MolToMolBlock(mol)\n",
        "dock_mol = oddt.toolkit.readstring('sdf', mol2)\n",
        "\n",
        "protein.addh(only_polar=True)\n",
        "\n",
        "vina_obj = autodock_vina(protein=protein, center=center, size=(20, 20, 20), num_modes=3, exhaustiveness=8, executable='./DrugDiscovery/qvina2.1') # vina\n",
        "\n",
        "docking_outputs = vina_obj.dock([dock_mol])\n",
        "docking_cnt = 1\n",
        "for each_output in docking_outputs:\n",
        "    vina_affinity = each_output.data['vina_affinity']\n",
        "    AutodockVina.write_vina_pdbqt(each_output, docking_output_dir, name_id='ref_docking_output')\n",
        "\n",
        "    print (\"%s docking pose's binding energy (kcal/mol) : %s\"%(docking_cnt, vina_affinity))\n",
        "    docking_cnt+=1\n",
        "    break\n",
        "e = time.time()\n",
        "\n",
        "print(e-s)"
      ],
      "metadata": {
        "id": "-SrImofm5KXT"
      },
      "execution_count": null,
      "outputs": []
    },
    {
      "cell_type": "markdown",
      "source": [
        "# Visualization"
      ],
      "metadata": {
        "id": "RLDRt4nqFoQU"
      }
    },
    {
      "cell_type": "code",
      "source": [
        "def drawit2(m,confId=-1):\n",
        "    mb = Chem.MolToMolBlock(m,confId=confId)\n",
        "    p = py3Dmol.view(width=400, height=400)\n",
        "    p.addModel(mb,'sdf')\n",
        "    p.setStyle({'stick':{}})\n",
        "    p.setBackgroundColor('0xeeeeee')\n",
        "    p.zoomTo()\n",
        "    return p\n",
        "\n",
        "def DrawComplex(protein, ligand):\n",
        "    complex_pl = Chem.MolToPDBBlock(Chem.CombineMols(protein, ligand))\n",
        "    view = py3Dmol.view(width=600, height=600)\n",
        "    view.addModel(complex_pl, 'pdb')\n",
        "\n",
        "    view.setStyle({}, {'cartoon': {'color': 'spectrum'}})\n",
        "    view.setStyle({'resn': 'UNL'}, {'stick': {'colorscheme': 'default'}})\n",
        "    view.addSurface(py3Dmol.VDW, {'opacity': 0.6, 'color': 'orange'}, {'resn': 'UNL'})\n",
        "\n",
        "    view.zoomTo()\n",
        "    return view\n",
        "\n",
        "filename = './output_ref/ref_docking_output.pdbqt'\n",
        "\n",
        "ligand_oddt = oddt.toolkit.readfile('pdbqt', filename).__next__()\n",
        "\n",
        "ligand_mol_block = ligand_oddt.write('mol')\n",
        "ligand = Chem.MolFromMolBlock(ligand_mol_block, removeHs=False)\n",
        "\n",
        "protein = Chem.MolFromPDBFile(protein_pdb_file)\n",
        "\n",
        "DrawComplex(protein, ligand)"
      ],
      "metadata": {
        "id": "vc-M7BxOoAYg"
      },
      "execution_count": null,
      "outputs": []
    },
    {
      "cell_type": "code",
      "source": [],
      "metadata": {
        "id": "RTsdDMWjAmU_"
      },
      "execution_count": null,
      "outputs": []
    },
    {
      "cell_type": "markdown",
      "source": [
        "# HIgh-Throughput Virtual Screening"
      ],
      "metadata": {
        "id": "w_VTXEE_D5dx"
      }
    },
    {
      "cell_type": "code",
      "source": [
        "import pandas as pd\n",
        "import os\n",
        "from prody import *\n",
        "import rdkit\n",
        "from rdkit import Chem\n",
        "from rdkit.Chem import AllChem\n",
        "import oddt\n",
        "from oddt.docking.AutodockVina import autodock_vina\n",
        "from oddt.docking import AutodockVina\n",
        "import glob\n",
        "import tqdm\n",
        "import numpy as np\n",
        "\n",
        "# Function to generate 3D coordinates for a molecule\n",
        "def make_3d_coordinate(m, conf_num):\n",
        "    target_mols = []\n",
        "    m = Chem.AddHs(m)\n",
        "    potential = AllChem.ETKDG()\n",
        "    AllChem.EmbedMolecule(m, potential)\n",
        "    cids = AllChem.EmbedMultipleConfs(m, numConfs=conf_num, numThreads=15)\n",
        "\n",
        "    for conf in m.GetConformers():\n",
        "        tm = Chem.Mol(m,False,conf.GetId())\n",
        "        res = AllChem.MMFFOptimizeMoleculeConfs(tm)\n",
        "        target_mols.append(tm)\n",
        "    return target_mols\n",
        "\n",
        "def get_3d_conformers(smiles, conf_num=3):\n",
        "    mol = Chem.MolFromSmiles(smiles)\n",
        "    target_mols = make_3d_coordinate(mol, conf_num)\n",
        "\n",
        "    target_dock_mols = []\n",
        "    for mol3d_tmp in target_mols:\n",
        "        mol3d_tmp = Chem.MolToMolBlock(mol3d_tmp)\n",
        "        dock_mol = oddt.toolkit.readstring('sdf', mol3d_tmp)\n",
        "        target_dock_mols.append(dock_mol)\n",
        "    return target_dock_mols\n",
        "\n",
        "target_folder_dir = './inputs/'\n",
        "output_dir = './output_vs/'\n",
        "\n",
        "folders = glob.glob(target_folder_dir+'/*')\n",
        "\n",
        "for each_target_dir in folders:\n",
        "    basename = os.path.basename(each_target_dir)\n",
        "\n",
        "    protein_pdb_file = each_target_dir+ '/protein.pdb'\n",
        "    ref_docking_file = each_target_dir+ '/ref_docking_output.pdbqt'\n",
        "    lib_file = each_target_dir+'/lib.csv'\n",
        "\n",
        "    # Create output directory\n",
        "    docking_output_dir = output_dir+\"%s\"%(basename)\n",
        "    try:\n",
        "        os.makedirs(docking_output_dir, exist_ok=True)\n",
        "    except:\n",
        "        pass\n",
        "\n",
        "    # Read the CSV file\n",
        "    csv_file = lib_file\n",
        "    df = pd.read_csv(csv_file)\n",
        "    df = df[0:5]\n",
        "\n",
        "    # Parameters\n",
        "    protein_pdb_file = protein_pdb_file\n",
        "    top_n = 100  # Number of top results to output\n",
        "    exhaustiveness = 8\n",
        "    num_modes = 3\n",
        "    conformer_num = 2\n",
        "\n",
        "    # Prepare protein\n",
        "    protein = next(oddt.toolkit.readfile('pdb', protein_pdb_file))\n",
        "    protein.protein = True\n",
        "    protein.addh(only_polar=True)\n",
        "\n",
        "    ligand = next(oddt.toolkit.readfile('pdbqt', ref_docking_file))\n",
        "    ligand.protein = False\n",
        "    ligand.addh(only_polar=True)\n",
        "\n",
        "    # Initialize Vina\n",
        "    vina_obj = autodock_vina(protein=protein, auto_ligand=ligand, size=(20, 20, 20), num_modes=3, exhaustiveness=16, executable='./DrugDiscovery/qvina2.1')\n",
        "\n",
        "    # Store docking results\n",
        "    docking_results = []\n",
        "\n",
        "    # Process each molecule\n",
        "    for index, row in tqdm.tqdm(df.iterrows()):\n",
        "        smiles = row['SMILES']\n",
        "        catalog_id = row['Catalog ID']\n",
        "\n",
        "        # Convert SMILES to RDKit molecule\n",
        "        mol = Chem.MolFromSmiles(smiles)\n",
        "        if mol is None:\n",
        "            print(f\"Failed to parse SMILES for {catalog_id}\")\n",
        "            continue\n",
        "\n",
        "        docking_mols = get_3d_conformers(smiles, conformer_num)\n",
        "\n",
        "        # Perform docking\n",
        "        docking_outputs = vina_obj.dock(docking_mols)\n",
        "\n",
        "        vina_affinity_list = []\n",
        "        pose_outputs = []\n",
        "\n",
        "        for idx, output in enumerate(docking_outputs, 1):\n",
        "            vina_affinity = output.data['vina_affinity']\n",
        "            vina_affinity_list.append(float(vina_affinity))\n",
        "            pose_outputs.append((output, idx))\n",
        "\n",
        "        # Find the best pose (lowest affinity)\n",
        "        if vina_affinity_list:  # Ensure there are results\n",
        "            min_vina_affinity = np.min(vina_affinity_list)\n",
        "            best_pose_idx = np.argmin(vina_affinity_list) + 1  # 1-based index\n",
        "            best_output = pose_outputs[best_pose_idx - 1][0]  # Get the best pose output\n",
        "\n",
        "            print(f\"{catalog_id}: Best Vina Affinity = {min_vina_affinity} kcal/mol (Pose {best_pose_idx})\")\n",
        "\n",
        "            # Save only the best docking pose\n",
        "            output_file = f'docking_pose_{catalog_id}_{best_pose_idx}.pdbqt'\n",
        "            AutodockVina.write_vina_pdbqt(\n",
        "                best_output,\n",
        "                docking_output_dir,\n",
        "                name_id=f'docking_pose_{catalog_id}_{best_pose_idx}'\n",
        "            )\n",
        "\n",
        "            # Store the best pose result\n",
        "            docking_results.append({\n",
        "                'Catalog ID': catalog_id,\n",
        "                'SMILES': smiles,\n",
        "                'Vina Affinity (kcal/mol)': min_vina_affinity,\n",
        "                'Pose': best_pose_idx,\n",
        "                'Output File': output_file\n",
        "            })\n",
        "\n",
        "    # Sort results by binding affinity (more negative is better)\n",
        "    docking_results = sorted(docking_results, key=lambda x: x['Vina Affinity (kcal/mol)'])\n",
        "\n",
        "    # Save results to CSV\n",
        "    results_df = pd.DataFrame(docking_results)\n",
        "    results_df.to_csv(os.path.join(docking_output_dir, \"docking_results.csv\"), index=False)\n",
        "    print(f\"\\nAll docking results saved to {docking_output_dir}/docking_results.csv\")"
      ],
      "metadata": {
        "id": "qJhTFNCDEbwT"
      },
      "execution_count": null,
      "outputs": []
    },
    {
      "cell_type": "code",
      "source": [],
      "metadata": {
        "id": "lOPgX0hLFuJb"
      },
      "execution_count": null,
      "outputs": []
    }
  ]
}