{
  "cells": [
    {
      "cell_type": "markdown",
      "metadata": {
        "id": "view-in-github",
        "colab_type": "text"
      },
      "source": [
        "<a href=\"https://colab.research.google.com/github/jyryu3161/DrugDiscovery/blob/main/lec10_code.ipynb\" target=\"_parent\"><img src=\"https://colab.research.google.com/assets/colab-badge.svg\" alt=\"Open In Colab\"/></a>"
      ]
    },
    {
      "cell_type": "markdown",
      "source": [
        "### 런타임 -> 런타임 유형 변경 -> 고용량 RAM"
      ],
      "metadata": {
        "id": "6qqBI1uR4o82"
      }
    },
    {
      "cell_type": "markdown",
      "source": [
        "# Install python packages"
      ],
      "metadata": {
        "id": "g_GQd_kSxAbu"
      }
    },
    {
      "cell_type": "code",
      "execution_count": 1,
      "metadata": {
        "id": "zGE7Zcpa4djP",
        "colab": {
          "base_uri": "https://localhost:8080/"
        },
        "outputId": "5f783234-b1b3-4797-c753-c5d19d48c837"
      },
      "outputs": [
        {
          "output_type": "stream",
          "name": "stdout",
          "text": [
            "Collecting deepchem\n",
            "  Downloading deepchem-2.8.0-py3-none-any.whl.metadata (2.0 kB)\n",
            "Collecting molvs\n",
            "  Downloading MolVS-0.1.1.tar.gz (61 kB)\n",
            "\u001b[?25l     \u001b[90m━━━━━━━━━━━━━━━━━━━━━━━━━━━━━━━━━━━━━━━━\u001b[0m \u001b[32m0.0/61.9 kB\u001b[0m \u001b[31m?\u001b[0m eta \u001b[36m-:--:--\u001b[0m\r\u001b[2K     \u001b[90m━━━━━━━━━━━━━━━━━━━━━━━━━━━━━━━━━━━━━━━━\u001b[0m \u001b[32m61.9/61.9 kB\u001b[0m \u001b[31m1.8 MB/s\u001b[0m eta \u001b[36m0:00:00\u001b[0m\n",
            "\u001b[?25h  Preparing metadata (setup.py) ... \u001b[?25l\u001b[?25hdone\n",
            "Requirement already satisfied: scikit-learn in /usr/local/lib/python3.11/dist-packages (1.6.1)\n",
            "Requirement already satisfied: imbalanced-learn in /usr/local/lib/python3.11/dist-packages (0.13.0)\n",
            "Requirement already satisfied: joblib in /usr/local/lib/python3.11/dist-packages (from deepchem) (1.5.0)\n",
            "Requirement already satisfied: numpy>=1.21 in /usr/local/lib/python3.11/dist-packages (from deepchem) (2.0.2)\n",
            "Requirement already satisfied: pandas in /usr/local/lib/python3.11/dist-packages (from deepchem) (2.2.2)\n",
            "Requirement already satisfied: sympy in /usr/local/lib/python3.11/dist-packages (from deepchem) (1.13.1)\n",
            "Requirement already satisfied: scipy>=1.10.1 in /usr/local/lib/python3.11/dist-packages (from deepchem) (1.15.3)\n",
            "Collecting rdkit (from deepchem)\n",
            "  Downloading rdkit-2025.3.2-cp311-cp311-manylinux_2_28_x86_64.whl.metadata (4.0 kB)\n",
            "Requirement already satisfied: six in /usr/local/lib/python3.11/dist-packages (from molvs) (1.17.0)\n",
            "Requirement already satisfied: threadpoolctl>=3.1.0 in /usr/local/lib/python3.11/dist-packages (from scikit-learn) (3.6.0)\n",
            "Requirement already satisfied: sklearn-compat<1,>=0.1 in /usr/local/lib/python3.11/dist-packages (from imbalanced-learn) (0.1.3)\n",
            "Requirement already satisfied: python-dateutil>=2.8.2 in /usr/local/lib/python3.11/dist-packages (from pandas->deepchem) (2.9.0.post0)\n",
            "Requirement already satisfied: pytz>=2020.1 in /usr/local/lib/python3.11/dist-packages (from pandas->deepchem) (2025.2)\n",
            "Requirement already satisfied: tzdata>=2022.7 in /usr/local/lib/python3.11/dist-packages (from pandas->deepchem) (2025.2)\n",
            "Requirement already satisfied: Pillow in /usr/local/lib/python3.11/dist-packages (from rdkit->deepchem) (11.2.1)\n",
            "Requirement already satisfied: mpmath<1.4,>=1.1.0 in /usr/local/lib/python3.11/dist-packages (from sympy->deepchem) (1.3.0)\n",
            "Downloading deepchem-2.8.0-py3-none-any.whl (1.0 MB)\n",
            "\u001b[2K   \u001b[90m━━━━━━━━━━━━━━━━━━━━━━━━━━━━━━━━━━━━━━━━\u001b[0m \u001b[32m1.0/1.0 MB\u001b[0m \u001b[31m15.4 MB/s\u001b[0m eta \u001b[36m0:00:00\u001b[0m\n",
            "\u001b[?25hDownloading rdkit-2025.3.2-cp311-cp311-manylinux_2_28_x86_64.whl (35.2 MB)\n",
            "\u001b[2K   \u001b[90m━━━━━━━━━━━━━━━━━━━━━━━━━━━━━━━━━━━━━━━━\u001b[0m \u001b[32m35.2/35.2 MB\u001b[0m \u001b[31m76.8 MB/s\u001b[0m eta \u001b[36m0:00:00\u001b[0m\n",
            "\u001b[?25hBuilding wheels for collected packages: molvs\n",
            "  Building wheel for molvs (setup.py) ... \u001b[?25l\u001b[?25hdone\n",
            "  Created wheel for molvs: filename=MolVS-0.1.1-py3-none-any.whl size=32374 sha256=0851325890c0d0fb2de1578b8c4e87eb37dcabee44a2e0170bd149859511f9e2\n",
            "  Stored in directory: /root/.cache/pip/wheels/26/62/a4/147e264c789d9a4e8495f2c3d60f702425761f875bcfdf44e0\n",
            "Successfully built molvs\n",
            "Installing collected packages: rdkit, molvs, deepchem\n",
            "Successfully installed deepchem-2.8.0 molvs-0.1.1 rdkit-2025.3.2\n"
          ]
        }
      ],
      "source": [
        "!pip install deepchem molvs scikit-learn imbalanced-learn"
      ]
    },
    {
      "cell_type": "markdown",
      "source": [
        "# BBBP Prediction Model"
      ],
      "metadata": {
        "id": "18326NvWxRK6"
      }
    },
    {
      "cell_type": "markdown",
      "metadata": {
        "id": "xrgCs3MCIxSy"
      },
      "source": [
        "### Download dataset"
      ]
    },
    {
      "cell_type": "code",
      "execution_count": 2,
      "metadata": {
        "colab": {
          "base_uri": "https://localhost:8080/"
        },
        "id": "PawppzejrsnG",
        "outputId": "4401b94d-e7be-4d00-9341-bf3eb13df97f"
      },
      "outputs": [
        {
          "output_type": "stream",
          "name": "stdout",
          "text": [
            "--2025-05-22 12:06:27--  https://www.dropbox.com/scl/fi/6kh2l30lxqh9l5y9kg9uj/bbbp.zip?rlkey=9aksfwk9tuem1jtq4cl4f9cfw\n",
            "Resolving www.dropbox.com (www.dropbox.com)... 162.125.5.18, 2620:100:601d:18::a27d:512\n",
            "Connecting to www.dropbox.com (www.dropbox.com)|162.125.5.18|:443... connected.\n",
            "HTTP request sent, awaiting response... 302 Found\n",
            "Location: https://uccbee182e7e5319e76b26227024.dl.dropboxusercontent.com/cd/0/inline/CqKbroSM7F8whYFWG__Ydjq4uGOPevY4dGY6dZOf_5Cn-DD8xE8yjbgGL6A2cDGbjh09hRdTPWUlJsUcvzQ5At7A9RnN_pf0b9u1tHNY-FS7j-ktByiGYyAwVqgJhQKdIXgdiT9hsqbxYyMOPSosw651/file# [following]\n",
            "--2025-05-22 12:06:28--  https://uccbee182e7e5319e76b26227024.dl.dropboxusercontent.com/cd/0/inline/CqKbroSM7F8whYFWG__Ydjq4uGOPevY4dGY6dZOf_5Cn-DD8xE8yjbgGL6A2cDGbjh09hRdTPWUlJsUcvzQ5At7A9RnN_pf0b9u1tHNY-FS7j-ktByiGYyAwVqgJhQKdIXgdiT9hsqbxYyMOPSosw651/file\n",
            "Resolving uccbee182e7e5319e76b26227024.dl.dropboxusercontent.com (uccbee182e7e5319e76b26227024.dl.dropboxusercontent.com)... 162.125.5.15, 2620:100:601d:15::a27d:50f\n",
            "Connecting to uccbee182e7e5319e76b26227024.dl.dropboxusercontent.com (uccbee182e7e5319e76b26227024.dl.dropboxusercontent.com)|162.125.5.15|:443... connected.\n",
            "HTTP request sent, awaiting response... 302 Found\n",
            "Location: /cd/0/inline2/CqLOsZwWxynpUiYC240VYGzsbOmtj31dQvMX0RipDf0j5lARDYV1f8rDRjLC8aoY-9BJzmVPponrKOBT0d-byQ9DUHEDOoIm_e9e8FoXD0lAuJI5LFFohtfy-YMtUhs_1H_rvnHuKI1qYZIljhj7pZpA9SSrXUXmJSDlwonfCb_17VO1lidx-RsJwrUFNJnDk_rDzGBbia-OsjeoWisB8se3CftVMEjXd2-xDO5U61tvix3upUmlcAUSl4RCECBJf2KhDuG-A_Upf0vFbOqyNJS0vYpmu5kWEAwz3LCKy_1z-COGQlnXbxizTvSMIROP8g_G44pj68IcFwiOxVlR2rG2DceuL3wfTIxjPhLHBwPS9DqvUSG7oZVlrIgiYB6PRmM/file [following]\n",
            "--2025-05-22 12:06:28--  https://uccbee182e7e5319e76b26227024.dl.dropboxusercontent.com/cd/0/inline2/CqLOsZwWxynpUiYC240VYGzsbOmtj31dQvMX0RipDf0j5lARDYV1f8rDRjLC8aoY-9BJzmVPponrKOBT0d-byQ9DUHEDOoIm_e9e8FoXD0lAuJI5LFFohtfy-YMtUhs_1H_rvnHuKI1qYZIljhj7pZpA9SSrXUXmJSDlwonfCb_17VO1lidx-RsJwrUFNJnDk_rDzGBbia-OsjeoWisB8se3CftVMEjXd2-xDO5U61tvix3upUmlcAUSl4RCECBJf2KhDuG-A_Upf0vFbOqyNJS0vYpmu5kWEAwz3LCKy_1z-COGQlnXbxizTvSMIROP8g_G44pj68IcFwiOxVlR2rG2DceuL3wfTIxjPhLHBwPS9DqvUSG7oZVlrIgiYB6PRmM/file\n",
            "Reusing existing connection to uccbee182e7e5319e76b26227024.dl.dropboxusercontent.com:443.\n",
            "HTTP request sent, awaiting response... 200 OK\n",
            "Length: 50049 (49K) [application/zip]\n",
            "Saving to: ‘bbbp.zip’\n",
            "\n",
            "bbbp.zip            100%[===================>]  48.88K  --.-KB/s    in 0.02s   \n",
            "\n",
            "2025-05-22 12:06:29 (2.12 MB/s) - ‘bbbp.zip’ saved [50049/50049]\n",
            "\n",
            "Archive:  bbbp.zip\n",
            "  inflating: bbbp/test.csv           \n",
            "  inflating: bbbp/train.csv          \n",
            "  inflating: bbbp/valid.csv          \n"
          ]
        }
      ],
      "source": [
        "!wget -O bbbp.zip https://www.dropbox.com/scl/fi/6kh2l30lxqh9l5y9kg9uj/bbbp.zip?rlkey=9aksfwk9tuem1jtq4cl4f9cfw&dl=0 # 데이터셋 다운로드\n",
        "!unzip bbbp.zip # 데이터셋 압축풀기"
      ]
    },
    {
      "cell_type": "markdown",
      "metadata": {
        "id": "DkECIa3jVg-R"
      },
      "source": [
        "### Preprocessing"
      ]
    },
    {
      "cell_type": "code",
      "execution_count": 3,
      "metadata": {
        "colab": {
          "base_uri": "https://localhost:8080/"
        },
        "id": "Ma0QPtSWVhC8",
        "outputId": "7c1f94f5-97aa-4c03-87e1-d9c221bce741"
      },
      "outputs": [
        {
          "output_type": "stream",
          "name": "stdout",
          "text": [
            "Processing train dataset...\n"
          ]
        },
        {
          "output_type": "stream",
          "name": "stderr",
          "text": [
            "[12:06:29] Explicit valence for atom # 1 N, 4, is greater than permitted\n",
            "[12:06:29] Explicit valence for atom # 6 N, 4, is greater than permitted\n",
            "[12:06:30] Explicit valence for atom # 6 N, 4, is greater than permitted\n",
            "[12:06:30] Explicit valence for atom # 11 N, 4, is greater than permitted\n",
            "[12:06:30] Explicit valence for atom # 5 N, 4, is greater than permitted\n",
            "[12:06:32] Can't kekulize mol.  Unkekulized atoms: 12 14\n"
          ]
        },
        {
          "output_type": "stream",
          "name": "stdout",
          "text": [
            "train dataset processing completed.\n",
            "Processing valid dataset...\n",
            "valid dataset processing completed.\n",
            "Processing test dataset...\n"
          ]
        },
        {
          "output_type": "stream",
          "name": "stderr",
          "text": [
            "[12:06:33] Explicit valence for atom # 12 N, 4, is greater than permitted\n",
            "[12:06:33] Explicit valence for atom # 5 N, 4, is greater than permitted\n"
          ]
        },
        {
          "output_type": "stream",
          "name": "stdout",
          "text": [
            "test dataset processing completed.\n",
            "All datasets have been processed.\n"
          ]
        }
      ],
      "source": [
        "import pandas as pd\n",
        "from rdkit import Chem\n",
        "from molvs import Standardizer\n",
        "from molvs.charge import Reionizer\n",
        "from molvs.tautomer import TautomerCanonicalizer\n",
        "\n",
        "from rdkit import RDLogger\n",
        "import time\n",
        "\n",
        "# RDKit의 로그 레벨을 ERROR로 설정하여 deprecation 경고 숨기기\n",
        "RDLogger.logger().setLevel(RDLogger.ERROR)\n",
        "\n",
        "def preprocess_smiles(smiles):\n",
        "    \"\"\"\n",
        "    주어진 SMILES 문자열을 전처리합니다.\n",
        "\n",
        "    :param smiles: 전처리할 SMILES 문자열\n",
        "    :return: 전처리된 SMILES 문자열, 유효하지 않은 경우 None\n",
        "    \"\"\"\n",
        "    # RDKit 분자 객체로 변환\n",
        "    mol = Chem.MolFromSmiles(smiles)\n",
        "    if mol is None:\n",
        "        return None  # 유효하지 않은 SMILES\n",
        "\n",
        "    # MolVS 표준화 적용\n",
        "    s = Standardizer()\n",
        "    mol = s.standardize(mol)\n",
        "\n",
        "    # 재이온화\n",
        "    reionizer = Reionizer()\n",
        "    mol = reionizer.reionize(mol)\n",
        "\n",
        "    # 다시 SMILES로 변환\n",
        "    return Chem.MolToSmiles(mol)\n",
        "\n",
        "def preprocess_dataset(input_file, output_file):\n",
        "    \"\"\"\n",
        "    입력 CSV 파일을 읽어 SMILES를 전처리하고 결과를 새 CSV 파일로 저장합니다.\n",
        "\n",
        "    :param input_file: 입력 CSV 파일 경로\n",
        "    :param output_file: 출력 CSV 파일 경로\n",
        "    \"\"\"\n",
        "    # CSV 파일 읽기\n",
        "    df = pd.read_csv(input_file)\n",
        "\n",
        "    # SMILES 열이 있는지 확인\n",
        "    if 'smiles' not in df.columns:\n",
        "        raise ValueError(\"CSV 파일에 'smiles' 열이 없습니다.\")\n",
        "\n",
        "    # SMILES 전처리\n",
        "    df['processed_smiles'] = df['smiles'].apply(preprocess_smiles)\n",
        "\n",
        "    # 유효하지 않은 SMILES 제거\n",
        "    df = df.dropna(subset=['processed_smiles'])\n",
        "\n",
        "    # 결과를 새 CSV 파일로 저장\n",
        "    df.to_csv(output_file, index=False)\n",
        "\n",
        "# 데이터셋 전처리 실행\n",
        "datasets = ['train', 'valid', 'test']\n",
        "\n",
        "for dataset in datasets:\n",
        "    input_file = f\"./bbbp/{dataset}.csv\"\n",
        "    output_file = f\"{dataset}_processed.csv\"\n",
        "    print(f\"Processing {dataset} dataset...\")\n",
        "    preprocess_dataset(input_file, output_file)\n",
        "    print(f\"{dataset} dataset processing completed.\")\n",
        "\n",
        "print(\"All datasets have been processed.\")"
      ]
    },
    {
      "cell_type": "markdown",
      "metadata": {
        "id": "ll8OmobAZGb4"
      },
      "source": [
        "### Generation of molecular features"
      ]
    },
    {
      "cell_type": "code",
      "execution_count": 4,
      "metadata": {
        "colab": {
          "base_uri": "https://localhost:8080/"
        },
        "id": "1I___9QmH9yo",
        "outputId": "7c0f61d3-3638-4404-85d1-47b13e1147b1"
      },
      "outputs": [
        {
          "output_type": "stream",
          "name": "stdout",
          "text": [
            "Train fingerprints shape: (1634, 2048)\n",
            "Valid fingerprints shape: (205, 2048)\n",
            "Test fingerprints shape: (192, 2048)\n",
            "All data has been processed and saved.\n"
          ]
        }
      ],
      "source": [
        "import pandas as pd\n",
        "import numpy as np\n",
        "from rdkit import Chem\n",
        "from rdkit.Chem import AllChem\n",
        "\n",
        "from rdkit import RDLogger\n",
        "import time\n",
        "\n",
        "# RDKit의 로그 레벨을 ERROR로 설정하여 deprecation 경고 숨기기\n",
        "RDLogger.logger().setLevel(RDLogger.ERROR)\n",
        "\n",
        "def read_dataset(file_path):\n",
        "    \"\"\"\n",
        "    CSV 파일을 읽어 pandas DataFrame으로 반환합니다.\n",
        "\n",
        "    :param file_path: CSV 파일 경로\n",
        "    :return: pandas DataFrame\n",
        "    \"\"\"\n",
        "    df = pd.read_csv(file_path)\n",
        "    return df\n",
        "\n",
        "def smiles_to_ecfp4(smiles, radius=2, nBits=2048):\n",
        "    mol = Chem.MolFromSmiles(smiles)\n",
        "    if mol is None:\n",
        "        return None\n",
        "\n",
        "    # ECFP4 fingerprint 생성 (radius=2)\n",
        "    fp = AllChem.GetMorganFingerprintAsBitVect(mol, radius=radius, nBits=nBits)\n",
        "\n",
        "    # bit vector를 numpy array로 변환\n",
        "    fp_array = np.zeros((nBits,), dtype=int)\n",
        "    for i in range(nBits):\n",
        "        fp_array[i] = fp[i]\n",
        "\n",
        "    return fp_array\n",
        "\n",
        "def generate_fingerprints(df, smiles_column='processed_smiles', size=2048, radius=2):\n",
        "    \"\"\"\n",
        "    주어진 DataFrame의 SMILES 열을 사용하여 circular fingerprints를 생성합니다.\n",
        "\n",
        "    :param df: 입력 DataFrame\n",
        "    :param smiles_column: SMILES 정보가 있는 열 이름\n",
        "    :param size: fingerprint 길이\n",
        "    :param radius: 원자 환경을 고려할 반경\n",
        "    :return: numpy array 형태의 fingerprints\n",
        "    \"\"\"\n",
        "    smiles_list = df[smiles_column].tolist()\n",
        "    features = []\n",
        "    for each_smiles in smiles_list:\n",
        "        feature = smiles_to_ecfp4(each_smiles, radius=radius, nBits=size)\n",
        "        features.append(feature)\n",
        "    return np.asarray(features)\n",
        "\n",
        "\n",
        "def process_dataset(file_path, generate_fp=True):\n",
        "    \"\"\"\n",
        "    주어진 파일 경로의 데이터셋을 처리하여 fingerprints를 생성합니다.\n",
        "\n",
        "    :param file_path: 처리할 CSV 파일 경로\n",
        "    :param generate_fp: fingerprints 생성 여부\n",
        "    :return: 생성된 특성들을 포함하는 딕셔너리와 타겟 값\n",
        "    \"\"\"\n",
        "    df = read_dataset(file_path)\n",
        "    y = df['p_np'].values  # 타겟 값 추출\n",
        "\n",
        "    results = {}\n",
        "    if generate_fp:\n",
        "        fingerprints = generate_fingerprints(df)\n",
        "        results['fingerprints'] = fingerprints\n",
        "\n",
        "    return results, y\n",
        "\n",
        "# 데이터셋 처리 및 특성 생성\n",
        "train_results, train_y = process_dataset('train_processed.csv')\n",
        "valid_results, valid_y = process_dataset('valid_processed.csv')\n",
        "test_results, test_y = process_dataset('test_processed.csv')\n",
        "\n",
        "# 생성된 특성의 형태 출력\n",
        "print(\"Train fingerprints shape:\", train_results['fingerprints'].shape)\n",
        "print(\"Valid fingerprints shape:\", valid_results['fingerprints'].shape)\n",
        "print(\"Test fingerprints shape:\", test_results['fingerprints'].shape)\n",
        "\n",
        "# 생성된 특성과 타겟 값을 numpy 파일로 저장\n",
        "np.save('./train_X.npy', train_results['fingerprints'])\n",
        "np.save('./valid_X.npy', valid_results['fingerprints'])\n",
        "np.save('./test_X.npy', test_results['fingerprints'])\n",
        "np.save('./train_y.npy', train_y)\n",
        "np.save('./valid_y.npy', valid_y)\n",
        "np.save('./test_y.npy', test_y)\n",
        "\n",
        "print(\"All data has been processed and saved.\")"
      ]
    },
    {
      "cell_type": "markdown",
      "metadata": {
        "id": "DsoTEu-1ZRQ2"
      },
      "source": [
        "### Data distribution"
      ]
    },
    {
      "cell_type": "code",
      "execution_count": 5,
      "metadata": {
        "colab": {
          "base_uri": "https://localhost:8080/"
        },
        "id": "jEwhYpIwZRWR",
        "outputId": "bc8fac7f-b224-40a3-eeba-6c1546b8e505"
      },
      "outputs": [
        {
          "output_type": "stream",
          "name": "stdout",
          "text": [
            "1286\n",
            "348\n"
          ]
        }
      ],
      "source": [
        "print(len(train_y[train_y==1])) # BBB Permeable\n",
        "print(len(train_y[train_y==0])) # BBB Non-permeable"
      ]
    },
    {
      "cell_type": "markdown",
      "metadata": {
        "id": "th1FCKMqXeFk"
      },
      "source": [
        "### Model training"
      ]
    },
    {
      "cell_type": "code",
      "execution_count": 6,
      "metadata": {
        "colab": {
          "base_uri": "https://localhost:8080/"
        },
        "id": "I3Ode4LOXeLT",
        "outputId": "74049d72-844f-4ce1-d89c-1dcd77ea5e09"
      },
      "outputs": [
        {
          "output_type": "stream",
          "name": "stdout",
          "text": [
            "Training random_forest_original...\n",
            "Model saved: saved_models/random_forest_original.pkl\n",
            "Training random_forest_under...\n",
            "Model saved: saved_models/random_forest_under.pkl\n",
            "Training random_forest_over...\n",
            "Model saved: saved_models/random_forest_over.pkl\n",
            "Training random_forest_smote...\n",
            "Model saved: saved_models/random_forest_smote.pkl\n",
            "Results saved to 'rf_evaluation_results.csv'\n",
            "\n",
            "=== Random Forest 결과 ===\n",
            "                                   ACC     AUROC       MCC  Precision  \\\n",
            "random_forest_original train  0.993880  0.999876  0.981712   0.995342   \n",
            "                       valid  0.873171  0.946437  0.682861   0.865031   \n",
            "                       test   0.859375  0.935890  0.709205   0.818792   \n",
            "random_forest_under    train  0.924725  0.991602  0.815713   0.998286   \n",
            "                       valid  0.873171  0.929425  0.712454   0.940741   \n",
            "                       test   0.869792  0.924941  0.721916   0.907563   \n",
            "random_forest_over     train  0.993268  0.999771  0.980144   0.998436   \n",
            "                       valid  0.897561  0.948046  0.745562   0.897436   \n",
            "                       test   0.848958  0.937002  0.673508   0.825175   \n",
            "random_forest_smote    train  0.993880  0.999880  0.981688   0.993808   \n",
            "                       valid  0.834146  0.924195  0.581071   0.853503   \n",
            "                       test   0.869792  0.905152  0.723148   0.839161   \n",
            "\n",
            "                                Recall  \n",
            "random_forest_original train  0.996890  \n",
            "                       valid  0.972414  \n",
            "                       test   1.000000  \n",
            "random_forest_under    train  0.905910  \n",
            "                       valid  0.875862  \n",
            "                       test   0.885246  \n",
            "random_forest_over     train  0.993002  \n",
            "                       valid  0.965517  \n",
            "                       test   0.967213  \n",
            "random_forest_smote    train  0.998445  \n",
            "                       valid  0.924138  \n",
            "                       test   0.983607  \n"
          ]
        }
      ],
      "source": [
        "# 필요한 라이브러리 임포트\n",
        "import numpy as np\n",
        "import pandas as pd\n",
        "from sklearn.ensemble import RandomForestClassifier\n",
        "from sklearn.metrics import accuracy_score, roc_auc_score, matthews_corrcoef, precision_score, recall_score\n",
        "from imblearn.under_sampling import RandomUnderSampler\n",
        "from imblearn.over_sampling import RandomOverSampler, SMOTE\n",
        "import os\n",
        "import joblib\n",
        "\n",
        "\n",
        "def load_data(prefix):\n",
        "    \"\"\"\n",
        "    지정된 접두사를 가진 numpy 파일에서 특성(X)과 레이블(y)을 로드합니다.\n",
        "    \"\"\"\n",
        "    X = np.load(f\"{prefix}_X.npy\")\n",
        "    y = np.load(f\"{prefix}_y.npy\")\n",
        "    return X, y\n",
        "\n",
        "def evaluate_model(model, X, y):\n",
        "    \"\"\"\n",
        "    주어진 모델을 평가하고 여러 성능 지표를 반환합니다.\n",
        "    \"\"\"\n",
        "    # 예측 수행\n",
        "    y_pred = model.predict(X)\n",
        "    y_pred_proba = model.predict_proba(X)[:, 1]  # 양성 클래스 확률\n",
        "\n",
        "    # 성능 지표 계산\n",
        "    metrics = {\n",
        "        \"ACC\": accuracy_score(y, y_pred),\n",
        "        \"AUROC\": roc_auc_score(y, y_pred_proba),\n",
        "        \"MCC\": matthews_corrcoef(y, y_pred),\n",
        "        \"Precision\": precision_score(y, y_pred, zero_division=0),\n",
        "        \"Recall\": recall_score(y, y_pred, zero_division=0)\n",
        "    }\n",
        "\n",
        "    return metrics\n",
        "\n",
        "def train_and_evaluate(X_train, y_train, X_valid, y_valid, X_test, y_test, sampling_method=None):\n",
        "    # 샘플링 방법 적용 (지정된 경우)\n",
        "    if sampling_method:\n",
        "        if sampling_method == \"under\":\n",
        "            sampler = RandomUnderSampler(random_state=42)\n",
        "        elif sampling_method == \"over\":\n",
        "            sampler = RandomOverSampler(random_state=42)\n",
        "        elif sampling_method == \"smote\":\n",
        "            sampler = SMOTE(random_state=42)\n",
        "        X_train_resampled, y_train_resampled = sampler.fit_resample(X_train, y_train)\n",
        "    else:\n",
        "        X_train_resampled, y_train_resampled = X_train, y_train\n",
        "\n",
        "    # RandomForest 모델 생성 및 학습\n",
        "    model = RandomForestClassifier(random_state=42, n_estimators=100)\n",
        "    model.fit(X_train_resampled, y_train_resampled)\n",
        "    model_path = save_model(model, sampling_method)\n",
        "\n",
        "    # 각 데이터셋에 대해 모델 평가\n",
        "    train_metrics = evaluate_model(model, X_train, y_train)\n",
        "    valid_metrics = evaluate_model(model, X_valid, y_valid)\n",
        "    test_metrics = evaluate_model(model, X_test, y_test)\n",
        "\n",
        "    return {\n",
        "        \"train\": train_metrics,\n",
        "        \"valid\": valid_metrics,\n",
        "        \"test\": test_metrics\n",
        "    }\n",
        "\n",
        "def save_model(model, sampling_method, model_dir=\"saved_models\"):\n",
        "    \"\"\"\n",
        "    훈련된 모델을 저장합니다.\n",
        "    \"\"\"\n",
        "    # 모델 저장 디렉토리 생성\n",
        "    os.makedirs(model_dir, exist_ok=True)\n",
        "\n",
        "    # 파일명 생성\n",
        "    model_name = f\"random_forest_{sampling_method if sampling_method else 'original'}.pkl\"\n",
        "    model_path = os.path.join(model_dir, model_name)\n",
        "\n",
        "    # 모델 저장\n",
        "    joblib.dump(model, model_path)\n",
        "    print(f\"Model saved: {model_path}\")\n",
        "\n",
        "    return model_path\n",
        "\n",
        "def load_saved_model(model_path):\n",
        "    \"\"\"\n",
        "    저장된 모델을 로드합니다.\n",
        "    \"\"\"\n",
        "    return joblib.load(model_path)\n",
        "\n",
        "# 데이터 로드\n",
        "X_train, y_train = load_data(\"train\")\n",
        "X_valid, y_valid = load_data(\"valid\")\n",
        "X_test, y_test = load_data(\"test\")\n",
        "\n",
        "# 샘플링 방법 설정\n",
        "sampling_methods = [None, \"under\", \"over\", \"smote\"]\n",
        "results = {}\n",
        "\n",
        "# 각 샘플링 방법에 대해 학습 및 평가 수행\n",
        "for sampling in sampling_methods:\n",
        "    key = f\"random_forest_{sampling if sampling else 'original'}\"\n",
        "    print(f\"Training {key}...\")\n",
        "    results[key] = train_and_evaluate(X_train, y_train, X_valid, y_valid, X_test, y_test, sampling)\n",
        "\n",
        "# 결과를 DataFrame으로 변환\n",
        "df_results = pd.DataFrame.from_dict({(i,j): results[i][j]\n",
        "                                        for i in results.keys()\n",
        "                                        for j in results[i].keys()},\n",
        "                                    orient='index')\n",
        "\n",
        "# 결과를 CSV 파일로 저장\n",
        "df_results.to_csv('rf_evaluation_results.csv')\n",
        "print(\"Results saved to 'rf_evaluation_results.csv'\")\n",
        "\n",
        "# 결과 출력\n",
        "print(\"\\n=== Random Forest 결과 ===\")\n",
        "print(df_results)\n",
        "\n"
      ]
    },
    {
      "cell_type": "markdown",
      "source": [
        "# Machine learning based binding affinity prediction"
      ],
      "metadata": {
        "id": "8NCwNAiYzn_H"
      }
    },
    {
      "cell_type": "code",
      "source": [
        "!wget -O enamine_lib.smiles https://www.dropbox.com/scl/fi/7s40vsgavxtiy4fqk3dgi/Enamine_Hit_Locator_Library_plated_460160cmpds_20250511.smiles?rlkey=d1ixit28b8qgd9pc1p1usohuh&st=je40l477&dl=0 # 데이터셋 다운로드\n"
      ],
      "metadata": {
        "colab": {
          "base_uri": "https://localhost:8080/"
        },
        "id": "knvIbVfwzoGA",
        "outputId": "864a98eb-a8e3-4d3d-c9bf-e2cde2dcbba4"
      },
      "execution_count": 7,
      "outputs": [
        {
          "output_type": "stream",
          "name": "stdout",
          "text": [
            "--2025-05-22 12:06:43--  https://www.dropbox.com/scl/fi/7s40vsgavxtiy4fqk3dgi/Enamine_Hit_Locator_Library_plated_460160cmpds_20250511.smiles?rlkey=d1ixit28b8qgd9pc1p1usohuh\n",
            "Resolving www.dropbox.com (www.dropbox.com)... 162.125.5.18, 2620:100:601d:18::a27d:512\n",
            "Connecting to www.dropbox.com (www.dropbox.com)|162.125.5.18|:443... connected.\n",
            "HTTP request sent, awaiting response... 302 Found\n",
            "Location: https://uc90a472ad248ec8a5c0732e72e2.dl.dropboxusercontent.com/cd/0/inline/CqJNy91QnQLVhGT46BXoxoAVKctZKEDmoFMGKVoyvYsp4v4eRMgFyH8V3NFXB_GG_AXm2a3s6ZVolY6JiWlOgAzKFhpHcw1P_zgWyBnAORz7KwcyAleJX4eKIEys_PSEB9sjeUIXyEKKEc7JHNjEl8Yi/file# [following]\n",
            "--2025-05-22 12:06:44--  https://uc90a472ad248ec8a5c0732e72e2.dl.dropboxusercontent.com/cd/0/inline/CqJNy91QnQLVhGT46BXoxoAVKctZKEDmoFMGKVoyvYsp4v4eRMgFyH8V3NFXB_GG_AXm2a3s6ZVolY6JiWlOgAzKFhpHcw1P_zgWyBnAORz7KwcyAleJX4eKIEys_PSEB9sjeUIXyEKKEc7JHNjEl8Yi/file\n",
            "Resolving uc90a472ad248ec8a5c0732e72e2.dl.dropboxusercontent.com (uc90a472ad248ec8a5c0732e72e2.dl.dropboxusercontent.com)... 162.125.5.15, 2620:100:601d:15::a27d:50f\n",
            "Connecting to uc90a472ad248ec8a5c0732e72e2.dl.dropboxusercontent.com (uc90a472ad248ec8a5c0732e72e2.dl.dropboxusercontent.com)|162.125.5.15|:443... connected.\n",
            "HTTP request sent, awaiting response... 200 OK\n",
            "Length: 70264869 (67M) [text/plain]\n",
            "Saving to: ‘enamine_lib.smiles’\n",
            "\n",
            "enamine_lib.smiles  100%[===================>]  67.01M  54.3MB/s    in 1.2s    \n",
            "\n",
            "2025-05-22 12:06:46 (54.3 MB/s) - ‘enamine_lib.smiles’ saved [70264869/70264869]\n",
            "\n"
          ]
        }
      ]
    },
    {
      "cell_type": "code",
      "execution_count": 10,
      "metadata": {
        "id": "kLsxmx5qaJac",
        "colab": {
          "base_uri": "https://localhost:8080/"
        },
        "outputId": "65132736-8a42-45b2-9bc8-1fa3549b587b"
      },
      "outputs": [
        {
          "output_type": "stream",
          "name": "stdout",
          "text": [
            "    Catalog ID                                             SMILES  \\\n",
            "0   Z966268928  O=C(NC=1C=CC=C(C1)C(=O)N2CCC=3C=CC=CC32)C4=CC=...   \n",
            "1  Z8427073885  O=C(NC=1C=C(C=CC1F)C=2C=CC=CC2)C3=NN4C(=N3)NC(...   \n",
            "2   Z767239376  CC1(NC(=O)NC1=O)C=2C=CC(=CC2)NC(=O)C=3C=C(N=C4...   \n",
            "3  Z1451728458  CC1(NC(=O)NC1=O)C=2C=CC=C(C2)C(=O)NC=3C=CC=4NC...   \n",
            "4  Z5164709323  O=C(NC=1C=CC=C(C1)C=2C=CN=CC2)C=3C=CC4=C(C3)CC...   \n",
            "\n",
            "   Vina Affinity (kcal/mol)  Pose                        Output File  \n",
            "0                     -10.5    10   docking_pose_Z966268928_10.pdbqt  \n",
            "1                     -10.1     4   docking_pose_Z8427073885_4.pdbqt  \n",
            "2                     -10.0     1    docking_pose_Z767239376_1.pdbqt  \n",
            "3                      -9.8     1   docking_pose_Z1451728458_1.pdbqt  \n",
            "4                      -9.8    10  docking_pose_Z5164709323_10.pdbqt  \n",
            "                                           SMILES   Catalog ID       MW  \\\n",
            "0        CC(OC=1C=CC=C(C#N)C1)C(=O)N2CCCCC2C(=O)O  Z1251193392  302.326   \n",
            "1      CCC(=O)NC1=CC=C(F)C(=C1)S(=O)(=O)NC(C)(C)C  Z1251673928  302.367   \n",
            "2        O=C(CN1C=CC=N1)NC2=NC=3C=CC=CC3N2C4CCCC4  Z1251687843  309.367   \n",
            "3    O=C1OCCN1C=2C=CC(=CC2)S(=O)(=O)NC=3C=CC=CC3F  Z1251701673  336.340   \n",
            "4  O=S(=O)(CC1CCCCO1)NC=2C=CC=CC2C3=NN=C4CCCCCN34  Z1251703037  390.502   \n",
            "\n",
            "   MW (desalted)  ClogP   logS  HBD  HBA   TPSA  RotBonds  \\\n",
            "0        302.326  2.444 -3.506    1    5  90.63         4   \n",
            "1        302.367  2.500 -2.949    2    3  75.27         4   \n",
            "2        309.367  2.992 -3.141    1    3  64.74         4   \n",
            "3        336.340  1.470 -4.298    1    4  75.71         3   \n",
            "4        390.502  2.467 -3.540    1    5  86.11         4   \n",
            "\n",
            "                                     AnalogsFromREAL  \n",
            "0  https://real.enamine.net/public-enum-files/Z12...  \n",
            "1  https://real.enamine.net/public-enum-files/Z12...  \n",
            "2  https://real.enamine.net/public-enum-files/Z12...  \n",
            "3  https://real.enamine.net/public-enum-files/Z12...  \n",
            "4  https://real.enamine.net/public-enum-files/Z12...  \n"
          ]
        }
      ],
      "source": [
        "import pandas as pd\n",
        "\n",
        "docking_result_df = pd.read_csv('./docking_results.csv', sep=',')\n",
        "print(docking_result_df.head())\n",
        "\n",
        "df = pd.read_csv('./enamine_lib.smiles', sep='\\t')\n",
        "print(df.head())"
      ]
    },
    {
      "cell_type": "code",
      "source": [
        "import pandas as pd\n",
        "import matplotlib.pyplot as plt\n",
        "import seaborn as sns\n",
        "\n",
        "# 데이터 로드\n",
        "docking_result_df = pd.read_csv('./docking_results.csv', sep=',')\n",
        "\n",
        "# Violin plot 그리기\n",
        "plt.figure(figsize=(8, 6))\n",
        "sns.violinplot(y=docking_result_df['Vina Affinity (kcal/mol)'])\n",
        "plt.title('Vina Affinity Distribution')\n",
        "plt.ylabel('Binding Affinity (kcal/mol)')\n",
        "plt.show()"
      ],
      "metadata": {
        "colab": {
          "base_uri": "https://localhost:8080/",
          "height": 526
        },
        "id": "fWIhb9PE-lM4",
        "outputId": "96cd3965-30c2-4568-8a4c-6fdf449c4469"
      },
      "execution_count": 11,
      "outputs": [
        {
          "output_type": "display_data",
          "data": {
            "text/plain": [
              "<Figure size 800x600 with 1 Axes>"
            ],
            "image/png": "[encoded data removed]"
          },
          "metadata": {}
        }
      ]
    },
    {
      "cell_type": "code",
      "source": [
        "# 필요한 라이브러리 임포트\n",
        "import pandas as pd\n",
        "import numpy as np\n",
        "from sklearn.ensemble import RandomForestRegressor\n",
        "from sklearn.model_selection import train_test_split\n",
        "from sklearn.metrics import mean_squared_error, r2_score, mean_absolute_error\n",
        "from rdkit import Chem\n",
        "from rdkit.Chem import AllChem\n",
        "import warnings\n",
        "import tqdm\n",
        "from sklearn.preprocessing import MinMaxScaler\n",
        "import matplotlib.pyplot as plt\n",
        "\n",
        "warnings.filterwarnings('ignore')\n",
        "\n",
        "def smiles_to_ecfp4(smiles, radius=2, nBits=2048):\n",
        "    mol = Chem.MolFromSmiles(smiles)\n",
        "    if mol is None:\n",
        "        return None\n",
        "\n",
        "    # ECFP4 fingerprint 생성 (radius=2)\n",
        "    fp = AllChem.GetMorganFingerprintAsBitVect(mol, radius=radius, nBits=nBits)\n",
        "\n",
        "    # bit vector를 numpy array로 변환\n",
        "    fp_array = np.zeros((nBits,), dtype=int)\n",
        "    for i in range(nBits):\n",
        "        fp_array[i] = fp[i]\n",
        "\n",
        "    return fp_array\n",
        "\n",
        "def prepare_ecfp4_features(df, smiles_column='SMILES', radius=2, nBits=2048):\n",
        "    print(f\"Calculating ECFP4 fingerprints for {len(df)} molecules...\")\n",
        "    print(f\"Parameters: radius={radius}, nBits={nBits}\")\n",
        "\n",
        "    features_list = []\n",
        "    valid_indices = []\n",
        "\n",
        "    for idx, smiles in tqdm.tqdm(enumerate(df[smiles_column]), total=len(df), desc=\"Processing molecules\"):\n",
        "        if pd.isna(smiles):\n",
        "            continue\n",
        "\n",
        "        fp_array = smiles_to_ecfp4(smiles, radius=radius, nBits=nBits)\n",
        "        if fp_array is not None:\n",
        "            features_list.append(fp_array)\n",
        "            valid_indices.append(idx)\n",
        "\n",
        "    if len(features_list) == 0:\n",
        "        return None, []\n",
        "\n",
        "    # numpy array로 변환\n",
        "    features_matrix = np.array(features_list)\n",
        "\n",
        "    print(f\"Successfully generated fingerprints for {len(features_matrix)} molecules\")\n",
        "    print(f\"Fingerprint shape: {features_matrix.shape}\")\n",
        "\n",
        "    return features_matrix, valid_indices\n",
        "\n",
        "\n",
        "# 기존 코드\n",
        "docking_result_df = pd.read_csv('./docking_results.csv', sep=',')\n",
        "docking_result_df['Vina Affinity Transform'] = docking_result_df['Vina Affinity (kcal/mol)']*-1.0/15.0\n",
        "\n",
        "# 1. 학습 데이터 준비 (ECFP4 사용)\n",
        "print(\"\\n=== Preparing Training Data with ECFP4 ===\")\n",
        "# SMILES에서 ECFP4 fingerprint 추출\n",
        "train_features, train_valid_indices = prepare_ecfp4_features(docking_result_df, 'SMILES', radius=2, nBits=2048)\n",
        "\n",
        "# 유효한 인덱스에 해당하는 타겟 값 추출\n",
        "train_target = docking_result_df.loc[train_valid_indices, 'Vina Affinity Transform'].values\n",
        "\n",
        "print(f\"Training features shape: {train_features.shape}\")\n",
        "print(f\"Target values shape: {train_target.shape}\")\n",
        "print(f\"Target statistics - Min: {train_target.min():.3f}, Max: {train_target.max():.3f}, Mean: {train_target.mean():.3f}\")\n",
        "\n",
        "# ECFP4 fingerprint 통계\n",
        "print(f\"Fingerprint density: {(train_features.sum() / train_features.size * 100):.2f}% (non-zero bits)\")\n",
        "\n",
        "# 2. 모델 학습\n",
        "print(\"\\n=== Training Random Forest Model with ECFP4 ===\")\n",
        "# 데이터 분할\n",
        "X_train, X_test, y_train, y_test = train_test_split(\n",
        "    train_features, train_target, test_size=0.2, random_state=42\n",
        ")\n",
        "\n",
        "# Random Forest 회귀 모델 생성 및 학습\n",
        "rf_model = RandomForestRegressor()\n",
        "\n",
        "print(\"Training Random Forest model...\")\n",
        "rf_model.fit(X_train, y_train)\n",
        "\n",
        "# 3. 모델 평가\n",
        "print(\"\\n=== Model Evaluation ===\")\n",
        "train_pred = rf_model.predict(X_train)\n",
        "test_pred = rf_model.predict(X_test)\n",
        "\n",
        "print(\"Training Set:\")\n",
        "print(f\"  R² Score: {r2_score(y_train, train_pred):.4f}\")\n",
        "print(f\"  RMSE: {np.sqrt(mean_squared_error(y_train, train_pred)):.4f}\")\n",
        "\n",
        "print(\"Test Set:\")\n",
        "print(f\"  R² Score: {r2_score(y_test, test_pred):.4f}\")\n",
        "print(f\"  RMSE: {np.sqrt(mean_squared_error(y_test, test_pred)):.4f}\")\n",
        "\n",
        "\n",
        "plt.scatter(test_pred, y_test, alpha=0.6)\n",
        "plt.xlabel('Predicted')\n",
        "plt.ylabel('Actual')\n",
        "plt.plot([y_test.min(), y_test.max()], [y_test.min(), y_test.max()], 'r--', alpha=0.8)\n",
        "plt.show()\n",
        "\n",
        "# 4. 새로운 데이터에 예측 적용\n",
        "print(\"\\n=== Predicting on New Data with ECFP4 ===\")\n",
        "\n",
        "df = pd.read_csv('./enamine_lib.smiles', sep='\\t')\n",
        "print(\"Enamine Library Data:\")\n",
        "print(df.head())\n",
        "\n",
        "# 새로운 데이터에서 ECFP4 fingerprint 추출\n",
        "pred_features, pred_valid_indices = prepare_ecfp4_features(df, 'SMILES', radius=2, nBits=2048)\n",
        "\n",
        "# 예측 수행\n",
        "print(\"Making predictions...\")\n",
        "predictions = rf_model.predict(pred_features)\n",
        "\n",
        "# 결과를 원본 DataFrame에 추가\n",
        "df['predicted_affinity'] = np.nan\n",
        "df.loc[pred_valid_indices, 'predicted_affinity'] = predictions\n",
        "\n",
        "print(f\"Predictions completed for {len(pred_valid_indices)} molecules out of {len(df)}\")\n",
        "print(f\"Predicted affinity statistics:\")\n",
        "print(f\"  Min: {predictions.min():.3f}\")\n",
        "print(f\"  Max: {predictions.max():.3f}\")\n",
        "print(f\"  Mean: {predictions.mean():.3f}\")\n",
        "print(f\"  Std: {predictions.std():.3f}\")\n",
        "\n",
        "# 5. 상위 1000개 화합물 선별 (affinity가 낮을수록 좋음)\n",
        "print(\"\\n=== Selecting Top 1000 Compounds ===\")\n",
        "# NaN 값 제외하고 정렬\n",
        "df_valid = df.dropna(subset=['predicted_affinity'])\n",
        "top_1000 = df_valid.nsmallest(1000, 'predicted_affinity')\n",
        "\n",
        "# 결과 저장\n",
        "top_1000.to_csv('lib_ml_selected.csv', index=False)\n",
        "df.to_csv('lib_ml_all.csv', index=False)\n"
      ],
      "metadata": {
        "colab": {
          "base_uri": "https://localhost:8080/",
          "height": 1000
        },
        "id": "1UYHalf42W8i",
        "outputId": "47844318-6fe5-4b06-a345-fb870b54c96a"
      },
      "execution_count": 15,
      "outputs": [
        {
          "output_type": "stream",
          "name": "stdout",
          "text": [
            "\n",
            "=== Preparing Training Data with ECFP4 ===\n",
            "Calculating ECFP4 fingerprints for 992 molecules...\n",
            "Parameters: radius=2, nBits=2048\n"
          ]
        },
        {
          "output_type": "stream",
          "name": "stderr",
          "text": [
            "Processing molecules: 100%|██████████| 992/992 [00:01<00:00, 809.88it/s]\n"
          ]
        },
        {
          "output_type": "stream",
          "name": "stdout",
          "text": [
            "Successfully generated fingerprints for 992 molecules\n",
            "Fingerprint shape: (992, 2048)\n",
            "Training features shape: (992, 2048)\n",
            "Target values shape: (992,)\n",
            "Target statistics - Min: 0.393, Max: 0.700, Mean: 0.519\n",
            "Fingerprint density: 2.31% (non-zero bits)\n",
            "\n",
            "=== Training Random Forest Model with ECFP4 ===\n",
            "Training Random Forest model...\n",
            "\n",
            "=== Model Evaluation ===\n",
            "Training Set:\n",
            "  R² Score: 0.9322\n",
            "  RMSE: 0.0113\n",
            "Test Set:\n",
            "  R² Score: 0.4445\n",
            "  RMSE: 0.0297\n"
          ]
        },
        {
          "output_type": "display_data",
          "data": {
            "text/plain": [
              "<Figure size 640x480 with 1 Axes>"
            ],
            "image/png": "[encoded data removed]"
          },
          "metadata": {}
        },
        {
          "output_type": "stream",
          "name": "stdout",
          "text": [
            "\n",
            "=== Predicting on New Data with ECFP4 ===\n",
            "Enamine Library Data:\n",
            "                                           SMILES   Catalog ID       MW  \\\n",
            "0        CC(OC=1C=CC=C(C#N)C1)C(=O)N2CCCCC2C(=O)O  Z1251193392  302.326   \n",
            "1      CCC(=O)NC1=CC=C(F)C(=C1)S(=O)(=O)NC(C)(C)C  Z1251673928  302.367   \n",
            "2        O=C(CN1C=CC=N1)NC2=NC=3C=CC=CC3N2C4CCCC4  Z1251687843  309.367   \n",
            "3    O=C1OCCN1C=2C=CC(=CC2)S(=O)(=O)NC=3C=CC=CC3F  Z1251701673  336.340   \n",
            "4  O=S(=O)(CC1CCCCO1)NC=2C=CC=CC2C3=NN=C4CCCCCN34  Z1251703037  390.502   \n",
            "\n",
            "   MW (desalted)  ClogP   logS  HBD  HBA   TPSA  RotBonds  \\\n",
            "0        302.326  2.444 -3.506    1    5  90.63         4   \n",
            "1        302.367  2.500 -2.949    2    3  75.27         4   \n",
            "2        309.367  2.992 -3.141    1    3  64.74         4   \n",
            "3        336.340  1.470 -4.298    1    4  75.71         3   \n",
            "4        390.502  2.467 -3.540    1    5  86.11         4   \n",
            "\n",
            "                                     AnalogsFromREAL  \n",
            "0  https://real.enamine.net/public-enum-files/Z12...  \n",
            "1  https://real.enamine.net/public-enum-files/Z12...  \n",
            "2  https://real.enamine.net/public-enum-files/Z12...  \n",
            "3  https://real.enamine.net/public-enum-files/Z12...  \n",
            "4  https://real.enamine.net/public-enum-files/Z12...  \n",
            "Calculating ECFP4 fingerprints for 460160 molecules...\n",
            "Parameters: radius=2, nBits=2048\n"
          ]
        },
        {
          "output_type": "stream",
          "name": "stderr",
          "text": [
            "Processing molecules:   6%|▌         | 25767/460160 [00:26<07:29, 965.92it/s]\n"
          ]
        },
        {
          "output_type": "error",
          "ename": "KeyboardInterrupt",
          "evalue": "",
          "traceback": [
            "\u001b[0;31m---------------------------------------------------------------------------\u001b[0m",
            "\u001b[0;31mKeyboardInterrupt\u001b[0m                         Traceback (most recent call last)",
            "\u001b[0;32m<ipython-input-15-0d8a602e9684>\u001b[0m in \u001b[0;36m<cell line: 0>\u001b[0;34m()\u001b[0m\n\u001b[1;32m    117\u001b[0m \u001b[0;34m\u001b[0m\u001b[0m\n\u001b[1;32m    118\u001b[0m \u001b[0;31m# 새로운 데이터에서 ECFP4 fingerprint 추출\u001b[0m\u001b[0;34m\u001b[0m\u001b[0;34m\u001b[0m\u001b[0m\n\u001b[0;32m--> 119\u001b[0;31m \u001b[0mpred_features\u001b[0m\u001b[0;34m,\u001b[0m \u001b[0mpred_valid_indices\u001b[0m \u001b[0;34m=\u001b[0m \u001b[0mprepare_ecfp4_features\u001b[0m\u001b[0;34m(\u001b[0m\u001b[0mdf\u001b[0m\u001b[0;34m,\u001b[0m \u001b[0;34m'SMILES'\u001b[0m\u001b[0;34m,\u001b[0m \u001b[0mradius\u001b[0m\u001b[0;34m=\u001b[0m\u001b[0;36m2\u001b[0m\u001b[0;34m,\u001b[0m \u001b[0mnBits\u001b[0m\u001b[0;34m=\u001b[0m\u001b[0;36m2048\u001b[0m\u001b[0;34m)\u001b[0m\u001b[0;34m\u001b[0m\u001b[0;34m\u001b[0m\u001b[0m\n\u001b[0m\u001b[1;32m    120\u001b[0m \u001b[0;34m\u001b[0m\u001b[0m\n\u001b[1;32m    121\u001b[0m \u001b[0;31m# 예측 수행\u001b[0m\u001b[0;34m\u001b[0m\u001b[0;34m\u001b[0m\u001b[0m\n",
            "\u001b[0;32m<ipython-input-15-0d8a602e9684>\u001b[0m in \u001b[0;36mprepare_ecfp4_features\u001b[0;34m(df, smiles_column, radius, nBits)\u001b[0m\n\u001b[1;32m     40\u001b[0m             \u001b[0;32mcontinue\u001b[0m\u001b[0;34m\u001b[0m\u001b[0;34m\u001b[0m\u001b[0m\n\u001b[1;32m     41\u001b[0m \u001b[0;34m\u001b[0m\u001b[0m\n\u001b[0;32m---> 42\u001b[0;31m         \u001b[0mfp_array\u001b[0m \u001b[0;34m=\u001b[0m \u001b[0msmiles_to_ecfp4\u001b[0m\u001b[0;34m(\u001b[0m\u001b[0msmiles\u001b[0m\u001b[0;34m,\u001b[0m \u001b[0mradius\u001b[0m\u001b[0;34m=\u001b[0m\u001b[0mradius\u001b[0m\u001b[0;34m,\u001b[0m \u001b[0mnBits\u001b[0m\u001b[0;34m=\u001b[0m\u001b[0mnBits\u001b[0m\u001b[0;34m)\u001b[0m\u001b[0;34m\u001b[0m\u001b[0;34m\u001b[0m\u001b[0m\n\u001b[0m\u001b[1;32m     43\u001b[0m         \u001b[0;32mif\u001b[0m \u001b[0mfp_array\u001b[0m \u001b[0;32mis\u001b[0m \u001b[0;32mnot\u001b[0m \u001b[0;32mNone\u001b[0m\u001b[0;34m:\u001b[0m\u001b[0;34m\u001b[0m\u001b[0;34m\u001b[0m\u001b[0m\n\u001b[1;32m     44\u001b[0m             \u001b[0mfeatures_list\u001b[0m\u001b[0;34m.\u001b[0m\u001b[0mappend\u001b[0m\u001b[0;34m(\u001b[0m\u001b[0mfp_array\u001b[0m\u001b[0;34m)\u001b[0m\u001b[0;34m\u001b[0m\u001b[0;34m\u001b[0m\u001b[0m\n",
            "\u001b[0;32m<ipython-input-15-0d8a602e9684>\u001b[0m in \u001b[0;36msmiles_to_ecfp4\u001b[0;34m(smiles, radius, nBits)\u001b[0m\n\u001b[1;32m     20\u001b[0m \u001b[0;34m\u001b[0m\u001b[0m\n\u001b[1;32m     21\u001b[0m     \u001b[0;31m# ECFP4 fingerprint 생성 (radius=2)\u001b[0m\u001b[0;34m\u001b[0m\u001b[0;34m\u001b[0m\u001b[0m\n\u001b[0;32m---> 22\u001b[0;31m     \u001b[0mfp\u001b[0m \u001b[0;34m=\u001b[0m \u001b[0mAllChem\u001b[0m\u001b[0;34m.\u001b[0m\u001b[0mGetMorganFingerprintAsBitVect\u001b[0m\u001b[0;34m(\u001b[0m\u001b[0mmol\u001b[0m\u001b[0;34m,\u001b[0m \u001b[0mradius\u001b[0m\u001b[0;34m=\u001b[0m\u001b[0mradius\u001b[0m\u001b[0;34m,\u001b[0m \u001b[0mnBits\u001b[0m\u001b[0;34m=\u001b[0m\u001b[0mnBits\u001b[0m\u001b[0;34m)\u001b[0m\u001b[0;34m\u001b[0m\u001b[0;34m\u001b[0m\u001b[0m\n\u001b[0m\u001b[1;32m     23\u001b[0m \u001b[0;34m\u001b[0m\u001b[0m\n\u001b[1;32m     24\u001b[0m     \u001b[0;31m# bit vector를 numpy array로 변환\u001b[0m\u001b[0;34m\u001b[0m\u001b[0;34m\u001b[0m\u001b[0m\n",
            "\u001b[0;31mKeyboardInterrupt\u001b[0m: "
          ]
        }
      ]
    },
    {
      "cell_type": "code",
      "source": [
        "import numpy as np\n",
        "import pandas as pd\n",
        "from sklearn.ensemble import RandomForestClassifier\n",
        "from sklearn.metrics import accuracy_score, roc_auc_score, matthews_corrcoef, precision_score, recall_score\n",
        "from imblearn.under_sampling import RandomUnderSampler\n",
        "from imblearn.over_sampling import RandomOverSampler, SMOTE\n",
        "import os\n",
        "import joblib\n",
        "warnings.filterwarnings('ignore')\n",
        "\n",
        "def smiles_to_ecfp4(smiles, radius=2, nBits=2048):\n",
        "    mol = Chem.MolFromSmiles(smiles)\n",
        "    if mol is None:\n",
        "        return None\n",
        "\n",
        "    # ECFP4 fingerprint 생성 (radius=2)\n",
        "    fp = AllChem.GetMorganFingerprintAsBitVect(mol, radius=radius, nBits=nBits)\n",
        "\n",
        "    # bit vector를 numpy array로 변환\n",
        "    fp_array = np.zeros((nBits,), dtype=int)\n",
        "    for i in range(nBits):\n",
        "        fp_array[i] = fp[i]\n",
        "\n",
        "    return fp_array\n",
        "\n",
        "def load_saved_model(model_path):\n",
        "    \"\"\"\n",
        "    저장된 모델을 로드합니다.\n",
        "    \"\"\"\n",
        "    return joblib.load(model_path)\n",
        "\n",
        "df = pd.read_csv(\"lib_ml_selected.csv\")\n",
        "features = []\n",
        "for each_smiles in df['SMILES']:\n",
        "    feature = smiles_to_ecfp4(each_smiles, radius=2, nBits=2048)\n",
        "    features.append(feature)\n",
        "\n",
        "model_path = './saved_models/random_forest_smote.pkl'\n",
        "rf_model = load_saved_model(model_path)\n",
        "\n",
        "results = rf_model.predict_proba(features)\n",
        "print(results)\n",
        "\n",
        "df['BBBP_probability'] = results[:, 1]  # permeable 확률 (1 클래스)\n",
        "df['BBBP'] = (results[:, 1] > 0.5).astype(int)\n",
        "\n",
        "output_filename = \"lib_ml_selected_with_bbbp_predictions.csv\"\n",
        "df.to_csv(output_filename, index=False)\n",
        "\n",
        "print(\"\\n=== 예측 결과 샘플 ===\")\n",
        "print(df[['SMILES', 'BBBP_probability', 'BBBP']].head(10))"
      ],
      "metadata": {
        "colab": {
          "base_uri": "https://localhost:8080/"
        },
        "id": "hbbv_uZo1R7v",
        "outputId": "f9d6c019-ef23-4679-f364-47d1c92adf04"
      },
      "execution_count": 14,
      "outputs": [
        {
          "output_type": "stream",
          "name": "stdout",
          "text": [
            "[[0.35   0.65  ]\n",
            " [0.26   0.74  ]\n",
            " [0.38   0.62  ]\n",
            " ...\n",
            " [0.2625 0.7375]\n",
            " [0.26   0.74  ]\n",
            " [0.23   0.77  ]]\n",
            "\n",
            "=== 예측 결과 샘플 ===\n",
            "                                        SMILES  BBBP_probability  BBBP\n",
            "0           O=C(NCC1(CCOCC1)OCCO)C(C2CC2)C3CC3          0.650000     1\n",
            "1       Cl.CCCC(N)C(=O)N(C)CC=1C=CC=C(C1)N(C)C          0.740000     1\n",
            "2          CCCNC(=O)NC=1C=CC=C(C1)COCC2=CC=CO2          0.620000     1\n",
            "3    CC(C)[C@@H](C#N)NS(=O)(=O)C=1C=CC(=CC1)CF          0.460000     0\n",
            "4  CC(C)C1(O)CN(C1)C(=O)C2=CC=C(C=N2)C=3C=NNC3          0.580000     1\n",
            "5                  CCC(C)C(=O)NCC1(CCOCC1)OCCO          0.700000     1\n",
            "6      CCCC(N)C(=O)NCC=1C=CC=C(C1)NC(=O)C(C)CC          0.706667     1\n",
            "7            CCOCC=1C=CC=C(C1)NC(=O)NC=2C=NNC2          0.680000     1\n",
            "8       CC1(C)C(CNC(=O)NCC2(CCOCC2)OCCO)C1(C)C          0.610000     1\n",
            "9              CCOCC=1C=CC=C(C1)NC(=O)C2COCCO2          0.720000     1\n"
          ]
        }
      ]
    },
    {
      "cell_type": "code",
      "source": [],
      "metadata": {
        "id": "GTvJUeo-2W-1"
      },
      "execution_count": null,
      "outputs": []
    },
    {
      "cell_type": "code",
      "source": [],
      "metadata": {
        "id": "Mpuag1DL2XBK"
      },
      "execution_count": null,
      "outputs": []
    },
    {
      "cell_type": "code",
      "source": [],
      "metadata": {
        "id": "zeTTYrxL2XC0"
      },
      "execution_count": null,
      "outputs": []
    }
  ],
  "metadata": {
    "colab": {
      "provenance": [],
      "machine_shape": "hm",
      "authorship_tag": "ABX9TyOHhkmkCHT5rM1SkxCM9r8n",
      "include_colab_link": true
    },
    "kernelspec": {
      "display_name": "Python 3",
      "name": "python3"
    },
    "language_info": {
      "name": "python"
    }
  },
  "nbformat": 4,
  "nbformat_minor": 0
}